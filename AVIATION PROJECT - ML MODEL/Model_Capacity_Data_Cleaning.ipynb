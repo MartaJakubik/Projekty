{
 "cells": [
  {
   "cell_type": "code",
   "execution_count": 1,
   "id": "8f922933",
   "metadata": {},
   "outputs": [],
   "source": [
    "import numpy as np\n",
    "import pandas as pd\n",
    "import matplotlib.pyplot as plt\n",
    "import seaborn as sns"
   ]
  },
  {
   "cell_type": "code",
   "execution_count": 2,
   "id": "c010f892",
   "metadata": {
    "scrolled": true
   },
   "outputs": [
    {
     "data": {
      "text/html": [
       "<div>\n",
       "<style scoped>\n",
       "    .dataframe tbody tr th:only-of-type {\n",
       "        vertical-align: middle;\n",
       "    }\n",
       "\n",
       "    .dataframe tbody tr th {\n",
       "        vertical-align: top;\n",
       "    }\n",
       "\n",
       "    .dataframe thead th {\n",
       "        text-align: right;\n",
       "    }\n",
       "</style>\n",
       "<table border=\"1\" class=\"dataframe\">\n",
       "  <thead>\n",
       "    <tr style=\"text-align: right;\">\n",
       "      <th></th>\n",
       "      <th>Event.Date</th>\n",
       "      <th>Location</th>\n",
       "      <th>Country</th>\n",
       "      <th>Injury.Severity</th>\n",
       "      <th>Aircraft.damage</th>\n",
       "      <th>Aircraft.Category</th>\n",
       "      <th>Make</th>\n",
       "      <th>Model</th>\n",
       "      <th>Amateur.Built</th>\n",
       "      <th>Number.of.Engines</th>\n",
       "      <th>...</th>\n",
       "      <th>Total.Minor.Injuries</th>\n",
       "      <th>Total.Uninjured</th>\n",
       "      <th>Weather.Condition</th>\n",
       "      <th>Broad.phase.of.flight</th>\n",
       "      <th>Report.Status</th>\n",
       "      <th>States</th>\n",
       "      <th>Year</th>\n",
       "      <th>Month.Abbr</th>\n",
       "      <th>Day.Name.Abbr</th>\n",
       "      <th>Weekend</th>\n",
       "    </tr>\n",
       "  </thead>\n",
       "  <tbody>\n",
       "    <tr>\n",
       "      <th>0</th>\n",
       "      <td>1982-01-01</td>\n",
       "      <td>PULLMAN, WA</td>\n",
       "      <td>United States</td>\n",
       "      <td>Non-Fatal</td>\n",
       "      <td>Substantial</td>\n",
       "      <td>Airplane</td>\n",
       "      <td>cessna</td>\n",
       "      <td>140</td>\n",
       "      <td>No</td>\n",
       "      <td>1.0</td>\n",
       "      <td>...</td>\n",
       "      <td>0.0</td>\n",
       "      <td>2.0</td>\n",
       "      <td>VMC</td>\n",
       "      <td>Takeoff</td>\n",
       "      <td>Probable Cause</td>\n",
       "      <td>WA</td>\n",
       "      <td>1982</td>\n",
       "      <td>Jan</td>\n",
       "      <td>Fri</td>\n",
       "      <td>False</td>\n",
       "    </tr>\n",
       "    <tr>\n",
       "      <th>1</th>\n",
       "      <td>1982-01-01</td>\n",
       "      <td>EAST HANOVER, NJ</td>\n",
       "      <td>United States</td>\n",
       "      <td>Non-Fatal</td>\n",
       "      <td>Substantial</td>\n",
       "      <td>Airplane</td>\n",
       "      <td>cessna</td>\n",
       "      <td>401B</td>\n",
       "      <td>No</td>\n",
       "      <td>2.0</td>\n",
       "      <td>...</td>\n",
       "      <td>0.0</td>\n",
       "      <td>2.0</td>\n",
       "      <td>IMC</td>\n",
       "      <td>Landing</td>\n",
       "      <td>Probable Cause</td>\n",
       "      <td>NJ</td>\n",
       "      <td>1982</td>\n",
       "      <td>Jan</td>\n",
       "      <td>Fri</td>\n",
       "      <td>False</td>\n",
       "    </tr>\n",
       "    <tr>\n",
       "      <th>2</th>\n",
       "      <td>1982-01-01</td>\n",
       "      <td>JACKSONVILLE, FL</td>\n",
       "      <td>United States</td>\n",
       "      <td>Non-Fatal</td>\n",
       "      <td>Substantial</td>\n",
       "      <td>NaN</td>\n",
       "      <td>north american</td>\n",
       "      <td>NAVION L-17B</td>\n",
       "      <td>No</td>\n",
       "      <td>1.0</td>\n",
       "      <td>...</td>\n",
       "      <td>3.0</td>\n",
       "      <td>0.0</td>\n",
       "      <td>IMC</td>\n",
       "      <td>Cruise</td>\n",
       "      <td>Probable Cause</td>\n",
       "      <td>FL</td>\n",
       "      <td>1982</td>\n",
       "      <td>Jan</td>\n",
       "      <td>Fri</td>\n",
       "      <td>False</td>\n",
       "    </tr>\n",
       "    <tr>\n",
       "      <th>3</th>\n",
       "      <td>1982-01-01</td>\n",
       "      <td>HOBBS, NM</td>\n",
       "      <td>United States</td>\n",
       "      <td>Non-Fatal</td>\n",
       "      <td>Substantial</td>\n",
       "      <td>NaN</td>\n",
       "      <td>piper</td>\n",
       "      <td>PA-28-161</td>\n",
       "      <td>No</td>\n",
       "      <td>1.0</td>\n",
       "      <td>...</td>\n",
       "      <td>0.0</td>\n",
       "      <td>1.0</td>\n",
       "      <td>VMC</td>\n",
       "      <td>Approach</td>\n",
       "      <td>Probable Cause</td>\n",
       "      <td>NM</td>\n",
       "      <td>1982</td>\n",
       "      <td>Jan</td>\n",
       "      <td>Fri</td>\n",
       "      <td>False</td>\n",
       "    </tr>\n",
       "    <tr>\n",
       "      <th>4</th>\n",
       "      <td>1982-01-01</td>\n",
       "      <td>TUSKEGEE, AL</td>\n",
       "      <td>United States</td>\n",
       "      <td>Non-Fatal</td>\n",
       "      <td>Substantial</td>\n",
       "      <td>NaN</td>\n",
       "      <td>beech</td>\n",
       "      <td>V35B</td>\n",
       "      <td>No</td>\n",
       "      <td>1.0</td>\n",
       "      <td>...</td>\n",
       "      <td>0.0</td>\n",
       "      <td>1.0</td>\n",
       "      <td>VMC</td>\n",
       "      <td>Landing</td>\n",
       "      <td>Probable Cause</td>\n",
       "      <td>AL</td>\n",
       "      <td>1982</td>\n",
       "      <td>Jan</td>\n",
       "      <td>Fri</td>\n",
       "      <td>False</td>\n",
       "    </tr>\n",
       "  </tbody>\n",
       "</table>\n",
       "<p>5 rows × 24 columns</p>\n",
       "</div>"
      ],
      "text/plain": [
       "   Event.Date          Location        Country Injury.Severity  \\\n",
       "0  1982-01-01       PULLMAN, WA  United States       Non-Fatal   \n",
       "1  1982-01-01  EAST HANOVER, NJ  United States       Non-Fatal   \n",
       "2  1982-01-01  JACKSONVILLE, FL  United States       Non-Fatal   \n",
       "3  1982-01-01         HOBBS, NM  United States       Non-Fatal   \n",
       "4  1982-01-01      TUSKEGEE, AL  United States       Non-Fatal   \n",
       "\n",
       "  Aircraft.damage Aircraft.Category            Make         Model  \\\n",
       "0     Substantial          Airplane          cessna           140   \n",
       "1     Substantial          Airplane          cessna          401B   \n",
       "2     Substantial               NaN  north american  NAVION L-17B   \n",
       "3     Substantial               NaN           piper     PA-28-161   \n",
       "4     Substantial               NaN           beech          V35B   \n",
       "\n",
       "  Amateur.Built  Number.of.Engines  ... Total.Minor.Injuries Total.Uninjured  \\\n",
       "0            No                1.0  ...                  0.0             2.0   \n",
       "1            No                2.0  ...                  0.0             2.0   \n",
       "2            No                1.0  ...                  3.0             0.0   \n",
       "3            No                1.0  ...                  0.0             1.0   \n",
       "4            No                1.0  ...                  0.0             1.0   \n",
       "\n",
       "   Weather.Condition  Broad.phase.of.flight   Report.Status  States  Year  \\\n",
       "0                VMC                Takeoff  Probable Cause      WA  1982   \n",
       "1                IMC                Landing  Probable Cause      NJ  1982   \n",
       "2                IMC                 Cruise  Probable Cause      FL  1982   \n",
       "3                VMC               Approach  Probable Cause      NM  1982   \n",
       "4                VMC                Landing  Probable Cause      AL  1982   \n",
       "\n",
       "  Month.Abbr Day.Name.Abbr Weekend  \n",
       "0        Jan           Fri   False  \n",
       "1        Jan           Fri   False  \n",
       "2        Jan           Fri   False  \n",
       "3        Jan           Fri   False  \n",
       "4        Jan           Fri   False  \n",
       "\n",
       "[5 rows x 24 columns]"
      ]
     },
     "execution_count": 2,
     "metadata": {},
     "output_type": "execute_result"
    }
   ],
   "source": [
    "df = pd.read_csv(\"make_model_date.csv\")\n",
    "df.head()"
   ]
  },
  {
   "cell_type": "code",
   "execution_count": 3,
   "id": "c14ac356",
   "metadata": {},
   "outputs": [
    {
     "data": {
      "text/plain": [
       "Index(['Event.Date', 'Location', 'Country', 'Injury.Severity',\n",
       "       'Aircraft.damage', 'Aircraft.Category', 'Make', 'Model',\n",
       "       'Amateur.Built', 'Number.of.Engines', 'Engine.Type',\n",
       "       'Purpose.of.flight', 'Total.Fatal.Injuries', 'Total.Serious.Injuries',\n",
       "       'Total.Minor.Injuries', 'Total.Uninjured', 'Weather.Condition',\n",
       "       'Broad.phase.of.flight', 'Report.Status', 'States', 'Year',\n",
       "       'Month.Abbr', 'Day.Name.Abbr', 'Weekend'],\n",
       "      dtype='object')"
      ]
     },
     "execution_count": 3,
     "metadata": {},
     "output_type": "execute_result"
    }
   ],
   "source": [
    "df.columns"
   ]
  },
  {
   "cell_type": "code",
   "execution_count": 4,
   "id": "8823ebad",
   "metadata": {},
   "outputs": [
    {
     "name": "stdout",
     "output_type": "stream",
     "text": [
      "<class 'pandas.core.frame.DataFrame'>\n",
      "RangeIndex: 82241 entries, 0 to 82240\n",
      "Data columns (total 24 columns):\n",
      " #   Column                  Non-Null Count  Dtype  \n",
      "---  ------                  --------------  -----  \n",
      " 0   Event.Date              82241 non-null  object \n",
      " 1   Location                82230 non-null  object \n",
      " 2   Country                 82241 non-null  object \n",
      " 3   Injury.Severity         82133 non-null  object \n",
      " 4   Aircraft.damage         80262 non-null  object \n",
      " 5   Aircraft.Category       28154 non-null  object \n",
      " 6   Make                    82220 non-null  object \n",
      " 7   Model                   82203 non-null  object \n",
      " 8   Amateur.Built           82220 non-null  object \n",
      " 9   Number.of.Engines       80367 non-null  float64\n",
      " 10  Engine.Type             79219 non-null  object \n",
      " 11  Purpose.of.flight       79813 non-null  object \n",
      " 12  Total.Fatal.Injuries    71588 non-null  float64\n",
      " 13  Total.Serious.Injuries  70869 non-null  float64\n",
      " 14  Total.Minor.Injuries    71514 non-null  float64\n",
      " 15  Total.Uninjured         77237 non-null  float64\n",
      " 16  Weather.Condition       81596 non-null  object \n",
      " 17  Broad.phase.of.flight   61153 non-null  object \n",
      " 18  Report.Status           79628 non-null  object \n",
      " 19  States                  82167 non-null  object \n",
      " 20  Year                    82241 non-null  int64  \n",
      " 21  Month.Abbr              82241 non-null  object \n",
      " 22  Day.Name.Abbr           82241 non-null  object \n",
      " 23  Weekend                 82241 non-null  bool   \n",
      "dtypes: bool(1), float64(5), int64(1), object(17)\n",
      "memory usage: 14.5+ MB\n"
     ]
    }
   ],
   "source": [
    "df.info()"
   ]
  },
  {
   "cell_type": "code",
   "execution_count": 68,
   "id": "8ba5e9fc",
   "metadata": {},
   "outputs": [],
   "source": [
    "df['Model'] = df['Model'].str.replace('-', '')"
   ]
  },
  {
   "cell_type": "code",
   "execution_count": 69,
   "id": "cf7f8a22",
   "metadata": {},
   "outputs": [],
   "source": [
    "df['Model'] = df['Model'].str.lower()"
   ]
  },
  {
   "cell_type": "code",
   "execution_count": 70,
   "id": "2fc4bcb2",
   "metadata": {},
   "outputs": [],
   "source": [
    "# POŁĄCZENIE marek\n",
    "df['Make'] = df['Make'].replace(r'^robinson.*', 'robinson', regex=True)\n",
    "df['Make'] = df['Make'].replace(r'^air tractor.*', 'air tractor', regex=True)\n",
    "df['Make'] = df['Make'].replace(r'^douglas.*', 'mcdonnell douglas', regex=True)\n",
    "df['Make'] = df['Make'].replace(r'^grumman.*', 'grumman', regex=True)\n",
    "df['Make'] = df['Make'].replace(r'^champion.*', 'champion', regex=True)\n",
    "df['Make'] = df['Make'].replace(r'^schweizer.*', 'schweizer', regex=True)\n",
    "df['Make'] = df['Make'].replace(r'^boeing.*', 'boeing', regex=True)\n",
    "df['Make'] = df['Make'].replace(r'^ ayres.*', ' ayres', regex=True)\n",
    "df['Make'] = df['Make'].replace(r'^eurocopter.*', 'eurocopter', regex=True)\n",
    "df['Make'] = df['Make'].replace(r'^bombardier.*', 'bombardier', regex=True)\n",
    "df['Make'] = df['Make'].replace(r'^cirrus.*', 'cirrus', regex=True)\n",
    "df['Make'] = df['Make'].replace(r'^ben.*', 'bensen', regex=True)\n",
    "df['Make'] = df['Make'].replace(r'^legend.*', 'american legend ', regex=True)\n",
    "df['Make'] = df['Make'].replace(r'^piper.*', 'piper', regex=True)\n",
    "df['Make'] = df['Make'].replace(r'^bell.*', 'bell', regex=True)\n",
    "df['Make'] = df['Make'].replace(r'^raytheon.*', 'raytheon', regex=True)\n",
    "df['Make'] = df['Make'].replace(r'^rockwell.*', 'rockwell', regex=True)\n",
    "df['Make'] = df['Make'].replace(r'^havilland.*', 'de havilland', regex=True)\n"
   ]
  },
  {
   "cell_type": "code",
   "execution_count": 71,
   "id": "7e8bd54b",
   "metadata": {},
   "outputs": [],
   "source": [
    "df['Total.Fatal.Injuries'] = df['Total.Fatal.Injuries'].fillna(0.0)\n",
    "df['Total.Serious.Injuries'] = df['Total.Serious.Injuries'].fillna(0.0)\n",
    "df['Total.Minor.Injuries'] = df['Total.Minor.Injuries'].fillna(0.0)\n",
    "df['Total.Uninjured'] = df['Total.Uninjured'].fillna(0.0)"
   ]
  },
  {
   "cell_type": "code",
   "execution_count": 72,
   "id": "4b98f216",
   "metadata": {},
   "outputs": [],
   "source": [
    "#remove all rows from column 'Broad.phase.of.flight' that have 'cessna' name in column 'Make'\n",
    "df = df[~((df['Make'] == 'piper') & df['Broad.phase.of.flight'].isna())]\n",
    "df = df[~((df['Make'] == 'cessna') & df['Broad.phase.of.flight'].isna())]"
   ]
  },
  {
   "cell_type": "code",
   "execution_count": 73,
   "id": "4f005c83",
   "metadata": {},
   "outputs": [],
   "source": [
    "update_info = {\n",
    "    ('cessna', ('120', '140', '150', '152', '162', '188', '305')): 'cessna_small',\n",
    "    ('cessna', ('l19', '170', '172', '177', '175', '180', '182', '205', '206', '210', '185', '152', '404', '421', '207', '208', '310', '340', '337', '402', '195', '414', '441', '401', '550', '425', \n",
    "               '303', '320', '335', '336', '500', '510', '551', '560', '411', '190', '525', '560', '501', '650', '680')): 'cessna_medium',\n",
    "    ('piper', ('11', '15', '17', '36', '18', '19', '21', '38', '108', 'j', '25')): 'piper_small',\n",
    "    ('piper', ('14', '16', '60', '20', '22', '28', '30', '39', '42', '44', '23', '34', '24', '32', '46', '12', '31')): 'piper_medium',\n",
    "    ('mooney', ('20', '2o', '22')): 'mooney_medium',\n",
    "    ('mooney', ('10', '18', '2a')): 'mooney_small',\n",
    "    ('boeing', ('707','717', '727', '737', '747', '757', '767', '777', '787')): 'boeing_large',\n",
    "    ('boeing', ('a75', 'b75', 'e75', 'd75', 'pt13', 'pt17')): 'boeing_small',\n",
    "    ('grumman', ('164', 'aa1', 'aa 1')): 'grumman_small',\n",
    "    ('grumman', ('aa5', 'aa 5', '7', '15', '44', 'tb', '21', '73')): 'grumman_medium',\n",
    "    ('bellanca', ('c',)): 'bellanca_small',\n",
    "    ('bellanca', ('17', '14', 'bl')): 'bellanca_medium',\n",
    "    ('robinson', ('r44', 'r22', '22', 's12')): 'robinson_small',\n",
    "    ('robinson', ('r66',)): 'robinson_medium',\n",
    "    ('schweizer', ('269', '164', '12', '13', '23', '26', '22', '32', '34')): 'schweizer_small',\n",
    "    ('schweizer', ('300',)): 'schweizer_medium',\n",
    "    ('aeronca', ('7', '11', '58', '65', 'c3')): 'aeronca_small',\n",
    "    ('aeronca', ('15',)): 'aeronca_medium',\n",
    "    ('mcdonnell douglas', ('dc', '88', '82', '10', '11', '54', '80', '83', '90', '81')): 'douglas_large',\n",
    "    ('mcdonnell douglas', ('600', '369', '500')): 'douglas_medium',\n",
    "    ('stinson', ('108', '77', '10', '19', 'sr', '180', '181')): 'stinson_medium',\n",
    "    ('stinson', ('l5', 'l 5')): 'stinson_small',\n",
    "    ('aero commander', ('a9', 's2')): 'aero_small',\n",
    "    ('aero commander', ('100', '112', '114', '200', '400', '500', '520', '560', '68', '69')): 'aero_medium',\n",
    "    ('taylorcraft', ('bc', 'dc', 'l2', 'bl', 'bf', '21', '19')): 'taylorcraft_small',\n",
    "    ('taylorcraft', ('20', '18')): 'taylorcraft_medium',\n",
    "    ('de havilland', ('dhc8', 'dhc7')): 'de havilland_large',\n",
    "    ('de havilland', ('dhc2', 'dhc3', 'dhc6')): 'de havilland_medium',\n",
    "    ('north american', ('t6', 't 6', 'snj', '51', '28')): 'namerican_small',\n",
    "    ('north american', ('navion', 'na', 'b25')): 'namerican_medium',\n",
    "    ('aerospatiale', ('atr',)): 'aerospatiale_large',\n",
    "    ('aerospatiale', ('sa', 'as', 'tb', '350', '316', '355', '300')): 'aerospatiale_medium',\n",
    "    ('rockwell', ('s2', 'a9')): 'rockwell_small',\n",
    "    ('rockwell', ('100', '112', '114', '680', '690', '500', '265')): 'rockwell_medium',\n",
    "    ('luscombe', ('11',)): 'luscombe_medium',\n",
    "    ('luscombe', ('8',)): 'luscombe_small',\n",
    "    ('vans', ('10',)): 'vans_medium',\n",
    "    ('vans', ('4', '6', '7', '12', '9', '14', '3')): 'vans_small',\n",
    "    ('bombardier', ('dhc',)): 'bombardier_large',\n",
    "    ('bombardier', ('600', '840', '100', '35')): 'bombardier_medium',\n",
    "}\n",
    "\n",
    "def update_model(row):\n",
    "    make = row['Make']\n",
    "    model = str(row['Model'])\n",
    "    \n",
    "    for condition, info in update_info.items():\n",
    "        if make == condition[0] and any(x in model for x in condition[1]):\n",
    "            return info\n",
    "    \n",
    "    return model\n",
    "\n",
    "df['Model.Capacity'] = df.apply(update_model, axis=1)"
   ]
  },
  {
   "cell_type": "code",
   "execution_count": 74,
   "id": "61b31352",
   "metadata": {},
   "outputs": [],
   "source": [
    "#\n",
    "df.loc[df['Make'] == 'beech', 'Model.Capacity'] = 'beech_medium'\n",
    "df.loc[df['Make'] == 'bell', 'Model.Capacity'] = 'bell_medium'\n",
    "df.loc[df['Make'] == 'hughes', 'Model.Capacity'] = 'hughes_medium'\n",
    "df.loc[df['Make'] == 'air tractor', 'Model.Capacity'] = 'air_tractor_small'\n",
    "df.loc[df['Make'] == 'maule', 'Model.Capacity'] = 'maule_medium'\n",
    "df.loc[df['Make'] == 'champion', 'Model.Capacity'] = 'champion_small'\n",
    "df.loc[df['Make'] == 'hiller', 'Model.Capacity'] = 'hiller_medium'\n",
    "df.loc[df['Make'] == 'enstrom', 'Model.Capacity'] = 'enstrom_medium'\n",
    "df.loc[df['Make'] == 'ayres', 'Model.Capacity'] = 'ayres_small'\n",
    "df.loc[df['Make'] == 'corp', 'Model.Capacity'] = 'corp_medium'\n",
    "df.loc[df['Make'] == 'eurocopter', 'Model.Capacity'] = 'eurocopter_medium'\n",
    "df.loc[df['Make'] == 'cirrus', 'Model.Capacity'] = 'cirrus_medium'\n",
    "df.loc[df['Make'] == 'sikorsky', 'Model.Capacity'] = 'sikorsky_medium'\n",
    "df.loc[df['Make'] == 'airbus', 'Model.Capacity'] = 'airbus_large'"
   ]
  },
  {
   "cell_type": "code",
   "execution_count": 75,
   "id": "5329f52f",
   "metadata": {},
   "outputs": [],
   "source": [
    "df.loc[df['Make'] == 'cessna', 'Aircraft.Category'] = 'Airplane'\n",
    "df.loc[df['Make'] == 'piper', 'Aircraft.Category'] = 'Airplane'\n",
    "df.loc[df['Make'] == 'beech', 'Aircraft.Category'] = 'Airplane'\n",
    "df.loc[df['Make'] == 'bell', 'Aircraft.Category'] = 'Helicopter'\n",
    "df.loc[df['Make'] == 'robinson', 'Aircraft.Category'] = 'Helicopter'\n",
    "df.loc[df['Make'] == 'hughes', 'Aircraft.Category'] = 'Helicopter'\n",
    "df.loc[df['Make'] == 'boeing', 'Aircraft.Category'] = 'Airplane'\n",
    "df.loc[df['Make'] == 'mooney', 'Aircraft.Category'] = 'Airplane'\n",
    "df.loc[df['Make'] == 'grumman', 'Aircraft.Category'] = 'Airplane'\n",
    "df.loc[df['Make'] == 'air tractor', 'Aircraft.Category'] = 'Airplane'\n",
    "df.loc[df['Make'] == 'maule', 'Aircraft.Category'] = 'Airplane'\n",
    "df.loc[df['Make'] == 'champion', 'Aircraft.Category'] = 'Airplane'\n",
    "df.loc[df['Make'] == 'stinson', 'Aircraft.Category'] = 'Airplane'\n",
    "df.loc[df['Make'] == 'luscombe', 'Aircraft.Category'] = 'Airplane'\n",
    "df.loc[df['Make'] == 'aero commander', 'Aircraft.Category'] = 'Airplane'\n",
    "df.loc[df['Make'] == 'taylorcraft', 'Aircraft.Category'] = 'Airplane'\n",
    "df.loc[df['Make'] == 'rockwell', 'Aircraft.Category'] = 'Airplane'\n",
    "df.loc[df['Make'] == 'hiller', 'Aircraft.Category'] = 'Helicopter'\n",
    "df.loc[df['Make'] == 'eurocopter', 'Aircraft.Category'] = 'Helicopter'\n",
    "df.loc[df['Make'] == 'cirrus design corp', 'Aircraft.Category'] = 'Airplane'\n",
    "df.loc[df['Make'] == 'aeronca', 'Aircraft.Category'] = 'Airplane'\n",
    "df.loc[df['Make'] == 'de havilland', 'Aircraft.Category'] = 'Airplane'\n",
    "df.loc[df['Make'] == 'north american', 'Aircraft.Category'] = 'Airplane'\n",
    "df.loc[df['Make'] == 'enstrom', 'Aircraft.Category'] = 'Helicopter'\n",
    "df.loc[df['Make'] == 'ayres', 'Aircraft.Category'] = 'Airplane'\n",
    "df.loc[df['Make'] == 'sikorsky', 'Aircraft.Category'] = 'Helicopter'\n",
    "df.loc[df['Make'] == 'vans', 'Aircraft.Category'] = 'Airplane'"
   ]
  },
  {
   "cell_type": "code",
   "execution_count": 76,
   "id": "78a72c7d",
   "metadata": {},
   "outputs": [
    {
     "name": "stderr",
     "output_type": "stream",
     "text": [
      "/var/folders/rr/3tz5xt4j16s1wvxsg7zr8hg80000gn/T/ipykernel_9574/2113484367.py:1: UserWarning: This pattern is interpreted as a regular expression, and has match groups. To actually get the groups, use str.extract.\n",
      "  conditions_airplane = (df['Make'] == 'mcdonnell douglas') & (df['Model'].str.contains(r'(dc|88|82|10|11|54|80|83|90|81)'))\n",
      "/var/folders/rr/3tz5xt4j16s1wvxsg7zr8hg80000gn/T/ipykernel_9574/2113484367.py:2: UserWarning: This pattern is interpreted as a regular expression, and has match groups. To actually get the groups, use str.extract.\n",
      "  conditions_helicopter = (df['Make'] == 'mcdonnell douglas') & (df['Model'].str.contains(r'(600|369|500)'))\n"
     ]
    }
   ],
   "source": [
    "conditions_airplane = (df['Make'] == 'mcdonnell douglas') & (df['Model'].str.contains(r'(dc|88|82|10|11|54|80|83|90|81)'))\n",
    "conditions_helicopter = (df['Make'] == 'mcdonnell douglas') & (df['Model'].str.contains(r'(600|369|500)'))\n",
    "\n",
    "df.loc[conditions_airplane, 'Aircraft.Category'] = df.loc[conditions_airplane, 'Aircraft.Category'].fillna('Airplane')\n",
    "df.loc[conditions_helicopter, 'Aircraft.Category'] = df.loc[conditions_helicopter, 'Aircraft.Category'].fillna('Helicopter')\n"
   ]
  },
  {
   "cell_type": "code",
   "execution_count": 77,
   "id": "86122767",
   "metadata": {},
   "outputs": [
    {
     "name": "stderr",
     "output_type": "stream",
     "text": [
      "/var/folders/rr/3tz5xt4j16s1wvxsg7zr8hg80000gn/T/ipykernel_9574/2271210749.py:3: UserWarning: This pattern is interpreted as a regular expression, and has match groups. To actually get the groups, use str.extract.\n",
      "  conditions_helicopter = (df['Make'] == 'schweizer') & (df['Model'].str.contains(r'(269|300)'))\n"
     ]
    }
   ],
   "source": [
    "conditions_airplane = (df['Make'] == 'schweizer') & (df['Model'].str.contains(r'164'))\n",
    "conditions_glider = (df['Make'] == 'schweizer') & (df['Model'].str.contains(r'sg'))\n",
    "conditions_helicopter = (df['Make'] == 'schweizer') & (df['Model'].str.contains(r'(269|300)'))\n",
    "\n",
    "df.loc[conditions_airplane, 'Aircraft.Category'] = df.loc[conditions_airplane, 'Aircraft.Category'].fillna('Airplane')\n",
    "df.loc[conditions_helicopter, 'Aircraft.Category'] = df.loc[conditions_helicopter, 'Aircraft.Category'].fillna('Helicopter')\n"
   ]
  },
  {
   "cell_type": "code",
   "execution_count": 80,
   "id": "bb2cf007",
   "metadata": {
    "scrolled": true
   },
   "outputs": [
    {
     "data": {
      "text/plain": [
       "Airplane      54570\n",
       "Helicopter     7548\n",
       "Name: Aircraft.Category, dtype: int64"
      ]
     },
     "execution_count": 80,
     "metadata": {},
     "output_type": "execute_result"
    }
   ],
   "source": [
    "df['Aircraft.Category'].value_counts()"
   ]
  },
  {
   "cell_type": "code",
   "execution_count": 84,
   "id": "1e392bbe",
   "metadata": {},
   "outputs": [
    {
     "data": {
      "text/plain": [
       "Substantial    46554\n",
       "Destroyed      12709\n",
       "Minor           1577\n",
       "Name: Aircraft.damage, dtype: int64"
      ]
     },
     "execution_count": 84,
     "metadata": {},
     "output_type": "execute_result"
    }
   ],
   "source": [
    "df['Aircraft.damage'].value_counts()"
   ]
  },
  {
   "cell_type": "code",
   "execution_count": 82,
   "id": "794f8769",
   "metadata": {},
   "outputs": [],
   "source": [
    "df = df.drop(df[df['Aircraft.damage'] == 'Unknown'].index)"
   ]
  },
  {
   "cell_type": "code",
   "execution_count": 87,
   "id": "f3979b4b",
   "metadata": {},
   "outputs": [
    {
     "data": {
      "text/plain": [
       "1.0    52797\n",
       "2.0     7899\n",
       "3.0      377\n",
       "4.0      279\n",
       "8.0        1\n",
       "6.0        1\n",
       "Name: Number.of.Engines, dtype: int64"
      ]
     },
     "execution_count": 87,
     "metadata": {},
     "output_type": "execute_result"
    }
   ],
   "source": [
    "df['Number.of.Engines'].value_counts()"
   ]
  },
  {
   "cell_type": "code",
   "execution_count": 86,
   "id": "2a65e1da",
   "metadata": {},
   "outputs": [],
   "source": [
    "df = df.drop(df[df['Number.of.Engines'] == 0.0].index)"
   ]
  },
  {
   "cell_type": "code",
   "execution_count": 91,
   "id": "a0c7891d",
   "metadata": {
    "scrolled": true
   },
   "outputs": [
    {
     "data": {
      "text/plain": [
       "Personal                     35038\n",
       "Instructional                 8206\n",
       "Unknown                       4523\n",
       "Aerial Application            4175\n",
       "Business                      3286\n",
       "Positioning                   1232\n",
       "Other Work Use                 921\n",
       "Ferry                          593\n",
       "Aerial Observation             534\n",
       "Public Aircraft                525\n",
       "Executive/corporate            379\n",
       "Flight Test                    265\n",
       "External Load                  105\n",
       "Skydiving                       87\n",
       "Air Race                        79\n",
       "Public Aircraft - Federal       76\n",
       "Public Aircraft - Local         66\n",
       "Public Aircraft - State         46\n",
       "Banner Tow                      40\n",
       "Firefighting                    26\n",
       "Name: Purpose.of.flight, dtype: int64"
      ]
     },
     "execution_count": 91,
     "metadata": {},
     "output_type": "execute_result"
    }
   ],
   "source": [
    "df['Purpose.of.flight'].value_counts()"
   ]
  },
  {
   "cell_type": "code",
   "execution_count": 94,
   "id": "05a32d4c",
   "metadata": {},
   "outputs": [
    {
     "data": {
      "text/plain": [
       "reciprocating    53307\n",
       "turbo shaft       2902\n",
       "turbo prop        2316\n",
       "turbo fan         1621\n",
       "turbo jet          443\n",
       "Name: Engine.Type, dtype: int64"
      ]
     },
     "execution_count": 94,
     "metadata": {},
     "output_type": "execute_result"
    }
   ],
   "source": [
    "df['Engine.Type'].value_counts()"
   ]
  },
  {
   "cell_type": "code",
   "execution_count": 93,
   "id": "73037f86",
   "metadata": {},
   "outputs": [],
   "source": [
    "df = df.drop(df[df['Engine.Type'].isin(['unknown', 'electric'])].index)"
   ]
  },
  {
   "cell_type": "code",
   "execution_count": 97,
   "id": "3dda4b28",
   "metadata": {},
   "outputs": [
    {
     "data": {
      "text/plain": [
       "VMC    56267\n",
       "IMC     4740\n",
       "Name: Weather.Condition, dtype: int64"
      ]
     },
     "execution_count": 97,
     "metadata": {},
     "output_type": "execute_result"
    }
   ],
   "source": [
    "df['Weather.Condition'].value_counts()"
   ]
  },
  {
   "cell_type": "code",
   "execution_count": 96,
   "id": "7c75a2aa",
   "metadata": {},
   "outputs": [],
   "source": [
    "df = df.drop(df[df['Weather.Condition'] == 'UNK'].index)"
   ]
  },
  {
   "cell_type": "code",
   "execution_count": 63,
   "id": "1a41d1a8",
   "metadata": {},
   "outputs": [
    {
     "data": {
      "text/plain": [
       "Landing        13231\n",
       "Takeoff         9912\n",
       "Cruise          8256\n",
       "Maneuvering     6268\n",
       "Approach        5117\n",
       "Taxi            1678\n",
       "Climb           1578\n",
       "Descent         1479\n",
       "Go-around       1218\n",
       "Standing         762\n",
       "Unknown          420\n",
       "Name: Broad.phase.of.flight, dtype: int64"
      ]
     },
     "execution_count": 63,
     "metadata": {},
     "output_type": "execute_result"
    }
   ],
   "source": [
    "df['Broad.phase.of.flight'].value_counts()"
   ]
  },
  {
   "cell_type": "code",
   "execution_count": null,
   "id": "113b99a3",
   "metadata": {},
   "outputs": [],
   "source": []
  },
  {
   "cell_type": "code",
   "execution_count": 89,
   "id": "6c798a6b",
   "metadata": {},
   "outputs": [],
   "source": [
    "df['Purpose.of.flight'] = df['Purpose.of.flight'].replace(r'^Air Race.*', 'Air Race', regex=True)"
   ]
  },
  {
   "cell_type": "code",
   "execution_count": 90,
   "id": "d953830b",
   "metadata": {},
   "outputs": [],
   "source": [
    "df = df.drop(df[df['Purpose.of.flight'].isin(['PUBL', 'PUBS', 'ASHO', 'Air Drop', 'Glider Tow'])].index)"
   ]
  },
  {
   "cell_type": "code",
   "execution_count": 98,
   "id": "40ff1a97",
   "metadata": {},
   "outputs": [],
   "source": [
    "# stworzenie kolumny capacity\n",
    "\n",
    "df['Capacity'] = np.where(df['Model.Capacity'].str.contains('small', case=False), 'small',\n",
    "                          np.where(df['Model.Capacity'].str.contains('medium', case=False), 'medium',\n",
    "                                   np.where(df['Model.Capacity'].str.contains('large', case=False), 'large', np.nan)))"
   ]
  },
  {
   "cell_type": "code",
   "execution_count": 99,
   "id": "ed9b032a",
   "metadata": {},
   "outputs": [
    {
     "data": {
      "text/plain": [
       "medium    34082\n",
       "small     18444\n",
       "nan        7154\n",
       "large      1719\n",
       "Name: Capacity, dtype: int64"
      ]
     },
     "execution_count": 99,
     "metadata": {},
     "output_type": "execute_result"
    }
   ],
   "source": [
    "df['Capacity'].value_counts()"
   ]
  },
  {
   "cell_type": "code",
   "execution_count": 79,
   "id": "068d63f9",
   "metadata": {},
   "outputs": [],
   "source": [
    "df = df[df['Aircraft.Category'].isin(['Airplane', 'Helicopter'])]"
   ]
  },
  {
   "cell_type": "code",
   "execution_count": 100,
   "id": "6bf81bf6",
   "metadata": {},
   "outputs": [
    {
     "name": "stdout",
     "output_type": "stream",
     "text": [
      "<class 'pandas.core.frame.DataFrame'>\n",
      "Int64Index: 61399 entries, 0 to 82238\n",
      "Data columns (total 26 columns):\n",
      " #   Column                  Non-Null Count  Dtype  \n",
      "---  ------                  --------------  -----  \n",
      " 0   Event.Date              61399 non-null  object \n",
      " 1   Location                61391 non-null  object \n",
      " 2   Country                 61399 non-null  object \n",
      " 3   Injury.Severity         61334 non-null  object \n",
      " 4   Aircraft.damage         60203 non-null  object \n",
      " 5   Aircraft.Category       61399 non-null  object \n",
      " 6   Make                    61392 non-null  object \n",
      " 7   Model                   61378 non-null  object \n",
      " 8   Amateur.Built           61385 non-null  object \n",
      " 9   Number.of.Engines       60751 non-null  float64\n",
      " 10  Engine.Type             60055 non-null  object \n",
      " 11  Purpose.of.flight       59634 non-null  object \n",
      " 12  Total.Fatal.Injuries    61399 non-null  float64\n",
      " 13  Total.Serious.Injuries  61399 non-null  float64\n",
      " 14  Total.Minor.Injuries    61399 non-null  float64\n",
      " 15  Total.Uninjured         61399 non-null  float64\n",
      " 16  Weather.Condition       61007 non-null  object \n",
      " 17  Broad.phase.of.flight   49919 non-null  object \n",
      " 18  Report.Status           59930 non-null  object \n",
      " 19  States                  61354 non-null  object \n",
      " 20  Year                    61399 non-null  int64  \n",
      " 21  Month.Abbr              61399 non-null  object \n",
      " 22  Day.Name.Abbr           61399 non-null  object \n",
      " 23  Weekend                 61399 non-null  bool   \n",
      " 24  Model.Capacity          61399 non-null  object \n",
      " 25  Capacity                61399 non-null  object \n",
      "dtypes: bool(1), float64(5), int64(1), object(19)\n",
      "memory usage: 12.2+ MB\n"
     ]
    }
   ],
   "source": [
    "df.info()"
   ]
  },
  {
   "cell_type": "code",
   "execution_count": 101,
   "id": "2d0c6826",
   "metadata": {},
   "outputs": [],
   "source": [
    "df.to_csv('data_for_aviation_model.csv', index=False)"
   ]
  }
 ],
 "metadata": {
  "kernelspec": {
   "display_name": "Python 3 (ipykernel)",
   "language": "python",
   "name": "python3"
  },
  "language_info": {
   "codemirror_mode": {
    "name": "ipython",
    "version": 3
   },
   "file_extension": ".py",
   "mimetype": "text/x-python",
   "name": "python",
   "nbconvert_exporter": "python",
   "pygments_lexer": "ipython3",
   "version": "3.9.13"
  }
 },
 "nbformat": 4,
 "nbformat_minor": 5
}
