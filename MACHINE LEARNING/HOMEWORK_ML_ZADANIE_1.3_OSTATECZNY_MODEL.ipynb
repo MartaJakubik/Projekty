{
 "cells": [
  {
   "cell_type": "code",
   "execution_count": 1,
   "id": "3d24c349",
   "metadata": {},
   "outputs": [],
   "source": [
    "import xgboost as xgb\n",
    "import numpy as np\n",
    "from sklearn import datasets\n",
    "import matplotlib.pyplot as plt\n",
    "from sklearn.model_selection import train_test_split\n",
    "from sklearn.metrics import f1_score, roc_auc_score, accuracy_score, roc_curve, precision_recall_curve\n",
    "import pandas as pd\n",
    "import sklearn.model_selection as msel\n",
    "from sklearn.preprocessing import LabelEncoder\n",
    "from sklearn.model_selection import cross_val_score\n",
    "import seaborn as sns"
   ]
  },
  {
   "cell_type": "code",
   "execution_count": 42,
   "id": "a7e24a52",
   "metadata": {},
   "outputs": [
    {
     "data": {
      "text/html": [
       "<div>\n",
       "<style scoped>\n",
       "    .dataframe tbody tr th:only-of-type {\n",
       "        vertical-align: middle;\n",
       "    }\n",
       "\n",
       "    .dataframe tbody tr th {\n",
       "        vertical-align: top;\n",
       "    }\n",
       "\n",
       "    .dataframe thead th {\n",
       "        text-align: right;\n",
       "    }\n",
       "</style>\n",
       "<table border=\"1\" class=\"dataframe\">\n",
       "  <thead>\n",
       "    <tr style=\"text-align: right;\">\n",
       "      <th></th>\n",
       "      <th>age</th>\n",
       "      <th>sex</th>\n",
       "      <th>cp</th>\n",
       "      <th>trestbps</th>\n",
       "      <th>chol</th>\n",
       "      <th>fbs</th>\n",
       "      <th>restecg</th>\n",
       "      <th>thalach</th>\n",
       "      <th>exang</th>\n",
       "      <th>oldpeak</th>\n",
       "      <th>num</th>\n",
       "    </tr>\n",
       "  </thead>\n",
       "  <tbody>\n",
       "    <tr>\n",
       "      <th>0</th>\n",
       "      <td>28</td>\n",
       "      <td>1</td>\n",
       "      <td>2</td>\n",
       "      <td>130.0</td>\n",
       "      <td>132.000000</td>\n",
       "      <td>0</td>\n",
       "      <td>2</td>\n",
       "      <td>185.0</td>\n",
       "      <td>0</td>\n",
       "      <td>0.0</td>\n",
       "      <td>0</td>\n",
       "    </tr>\n",
       "    <tr>\n",
       "      <th>1</th>\n",
       "      <td>29</td>\n",
       "      <td>1</td>\n",
       "      <td>2</td>\n",
       "      <td>120.0</td>\n",
       "      <td>243.000000</td>\n",
       "      <td>0</td>\n",
       "      <td>0</td>\n",
       "      <td>160.0</td>\n",
       "      <td>0</td>\n",
       "      <td>0.0</td>\n",
       "      <td>0</td>\n",
       "    </tr>\n",
       "    <tr>\n",
       "      <th>2</th>\n",
       "      <td>29</td>\n",
       "      <td>1</td>\n",
       "      <td>2</td>\n",
       "      <td>140.0</td>\n",
       "      <td>250.472119</td>\n",
       "      <td>0</td>\n",
       "      <td>0</td>\n",
       "      <td>170.0</td>\n",
       "      <td>0</td>\n",
       "      <td>0.0</td>\n",
       "      <td>0</td>\n",
       "    </tr>\n",
       "    <tr>\n",
       "      <th>3</th>\n",
       "      <td>30</td>\n",
       "      <td>0</td>\n",
       "      <td>1</td>\n",
       "      <td>170.0</td>\n",
       "      <td>237.000000</td>\n",
       "      <td>0</td>\n",
       "      <td>1</td>\n",
       "      <td>170.0</td>\n",
       "      <td>0</td>\n",
       "      <td>0.0</td>\n",
       "      <td>0</td>\n",
       "    </tr>\n",
       "    <tr>\n",
       "      <th>4</th>\n",
       "      <td>31</td>\n",
       "      <td>0</td>\n",
       "      <td>2</td>\n",
       "      <td>100.0</td>\n",
       "      <td>219.000000</td>\n",
       "      <td>0</td>\n",
       "      <td>1</td>\n",
       "      <td>150.0</td>\n",
       "      <td>0</td>\n",
       "      <td>0.0</td>\n",
       "      <td>0</td>\n",
       "    </tr>\n",
       "  </tbody>\n",
       "</table>\n",
       "</div>"
      ],
      "text/plain": [
       "   age  sex  cp  trestbps        chol  fbs  restecg  thalach  exang  oldpeak  \\\n",
       "0   28    1   2     130.0  132.000000    0        2    185.0      0      0.0   \n",
       "1   29    1   2     120.0  243.000000    0        0    160.0      0      0.0   \n",
       "2   29    1   2     140.0  250.472119    0        0    170.0      0      0.0   \n",
       "3   30    0   1     170.0  237.000000    0        1    170.0      0      0.0   \n",
       "4   31    0   2     100.0  219.000000    0        1    150.0      0      0.0   \n",
       "\n",
       "   num  \n",
       "0    0  \n",
       "1    0  \n",
       "2    0  \n",
       "3    0  \n",
       "4    0  "
      ]
     },
     "execution_count": 42,
     "metadata": {},
     "output_type": "execute_result"
    }
   ],
   "source": [
    "df = pd.read_csv(\"heart_NO_Missing_Data.csv\")\n",
    "df.head()"
   ]
  },
  {
   "cell_type": "code",
   "execution_count": 43,
   "id": "a6377e4e",
   "metadata": {},
   "outputs": [
    {
     "data": {
      "text/plain": [
       "Index(['age', 'sex', 'cp', 'trestbps', 'chol', 'fbs', 'restecg', 'thalach',\n",
       "       'exang', 'oldpeak', 'num'],\n",
       "      dtype='object')"
      ]
     },
     "execution_count": 43,
     "metadata": {},
     "output_type": "execute_result"
    }
   ],
   "source": [
    "df.columns"
   ]
  },
  {
   "cell_type": "code",
   "execution_count": 44,
   "id": "78fdbb37",
   "metadata": {
    "scrolled": true
   },
   "outputs": [],
   "source": [
    "# usunięcie features \n",
    "df = df.drop(['age', 'sex', 'trestbps', 'chol', 'fbs', 'restecg', 'thalach'],axis=1)"
   ]
  },
  {
   "cell_type": "code",
   "execution_count": 47,
   "id": "50f574db",
   "metadata": {},
   "outputs": [
    {
     "name": "stdout",
     "output_type": "stream",
     "text": [
      "<class 'pandas.core.frame.DataFrame'>\n",
      "RangeIndex: 292 entries, 0 to 291\n",
      "Data columns (total 4 columns):\n",
      " #   Column   Non-Null Count  Dtype  \n",
      "---  ------   --------------  -----  \n",
      " 0   cp       292 non-null    object \n",
      " 1   exang    292 non-null    object \n",
      " 2   oldpeak  292 non-null    float64\n",
      " 3   num      292 non-null    object \n",
      "dtypes: float64(1), object(3)\n",
      "memory usage: 9.2+ KB\n"
     ]
    }
   ],
   "source": [
    "df.info()"
   ]
  },
  {
   "cell_type": "code",
   "execution_count": 55,
   "id": "ea6c798e",
   "metadata": {},
   "outputs": [],
   "source": [
    "df['cp'] = df['cp'].astype(object)\n",
    "df['num'] = df['num'].astype(object)\n",
    "df['exang'] = df['exang'].astype(object)\n",
    "df['oldpeak'] = df['oldpeak'].astype(object)"
   ]
  },
  {
   "cell_type": "code",
   "execution_count": 56,
   "id": "138afbba",
   "metadata": {},
   "outputs": [],
   "source": [
    "encoder = LabelEncoder()\n",
    "for col in ('cp', 'num', 'exang', 'oldpeak'):\n",
    "    df['cp'] = encoder.fit_transform(df['cp'])\n",
    "    df['num'] = encoder.fit_transform(df['num'])\n",
    "    df['exang'] = encoder.fit_transform(df['exang'])\n",
    "    df['oldpeak'] = encoder.fit_transform(df['oldpeak'])"
   ]
  },
  {
   "cell_type": "markdown",
   "id": "3c3a9b65",
   "metadata": {},
   "source": [
    "MODELOWANIE"
   ]
  },
  {
   "cell_type": "code",
   "execution_count": 57,
   "id": "06482166",
   "metadata": {},
   "outputs": [],
   "source": [
    "# PODZIAŁ NA FEATURES I TARGET\n",
    "X = df.drop('num',axis=1)\n",
    "y = df['num']"
   ]
  },
  {
   "cell_type": "code",
   "execution_count": 58,
   "id": "4a684659",
   "metadata": {},
   "outputs": [
    {
     "data": {
      "text/html": [
       "<div>\n",
       "<style scoped>\n",
       "    .dataframe tbody tr th:only-of-type {\n",
       "        vertical-align: middle;\n",
       "    }\n",
       "\n",
       "    .dataframe tbody tr th {\n",
       "        vertical-align: top;\n",
       "    }\n",
       "\n",
       "    .dataframe thead th {\n",
       "        text-align: right;\n",
       "    }\n",
       "</style>\n",
       "<table border=\"1\" class=\"dataframe\">\n",
       "  <thead>\n",
       "    <tr style=\"text-align: right;\">\n",
       "      <th></th>\n",
       "      <th>cp</th>\n",
       "      <th>exang</th>\n",
       "      <th>oldpeak</th>\n",
       "    </tr>\n",
       "  </thead>\n",
       "  <tbody>\n",
       "    <tr>\n",
       "      <th>0</th>\n",
       "      <td>1</td>\n",
       "      <td>0</td>\n",
       "      <td>0</td>\n",
       "    </tr>\n",
       "    <tr>\n",
       "      <th>1</th>\n",
       "      <td>1</td>\n",
       "      <td>0</td>\n",
       "      <td>0</td>\n",
       "    </tr>\n",
       "    <tr>\n",
       "      <th>2</th>\n",
       "      <td>1</td>\n",
       "      <td>0</td>\n",
       "      <td>0</td>\n",
       "    </tr>\n",
       "    <tr>\n",
       "      <th>3</th>\n",
       "      <td>0</td>\n",
       "      <td>0</td>\n",
       "      <td>0</td>\n",
       "    </tr>\n",
       "    <tr>\n",
       "      <th>4</th>\n",
       "      <td>1</td>\n",
       "      <td>0</td>\n",
       "      <td>0</td>\n",
       "    </tr>\n",
       "  </tbody>\n",
       "</table>\n",
       "</div>"
      ],
      "text/plain": [
       "   cp  exang  oldpeak\n",
       "0   1      0        0\n",
       "1   1      0        0\n",
       "2   1      0        0\n",
       "3   0      0        0\n",
       "4   1      0        0"
      ]
     },
     "execution_count": 58,
     "metadata": {},
     "output_type": "execute_result"
    }
   ],
   "source": [
    "X.head()"
   ]
  },
  {
   "cell_type": "code",
   "execution_count": 59,
   "id": "059761b5",
   "metadata": {},
   "outputs": [],
   "source": [
    "# PODZIAŁ NA ZBIÓR TESTOWY I TRENINGOWY\n",
    "X_train, X_test, y_train, y_test = train_test_split(X, y, test_size=0.15, random_state=101)"
   ]
  },
  {
   "cell_type": "markdown",
   "id": "c00dc821",
   "metadata": {},
   "source": [
    "Tworzę model z trzema najważniejszymi features, używam parametrów z GridSearchCV"
   ]
  },
  {
   "cell_type": "code",
   "execution_count": 80,
   "id": "c37b324e",
   "metadata": {},
   "outputs": [],
   "source": [
    "# TWORZENIE MODELU\n",
    "xgb_cl = xgb_cl = xgb.XGBClassifier() \n",
    "\n",
    "# FITOWANIE\n",
    "xgb_cl.fit(X_train, y_train)\n",
    "\n",
    "# PREDYKCJA\n",
    "preds = xgb_cl.predict(X_test)"
   ]
  },
  {
   "cell_type": "markdown",
   "id": "06c0b225",
   "metadata": {},
   "source": [
    "EWALUACJA"
   ]
  },
  {
   "cell_type": "code",
   "execution_count": 81,
   "id": "81b351ed",
   "metadata": {},
   "outputs": [
    {
     "data": {
      "text/plain": [
       "0.8409090909090909"
      ]
     },
     "execution_count": 81,
     "metadata": {},
     "output_type": "execute_result"
    }
   ],
   "source": [
    "accuracy_score(y_test, preds)"
   ]
  },
  {
   "cell_type": "code",
   "execution_count": null,
   "id": "190191eb",
   "metadata": {},
   "outputs": [],
   "source": [
    "# na podstawie 3 features model w 84% przewiduje czy ktoś ma chorobę serca czy nie"
   ]
  },
  {
   "cell_type": "code",
   "execution_count": 82,
   "id": "49e1b1f1",
   "metadata": {},
   "outputs": [
    {
     "name": "stdout",
     "output_type": "stream",
     "text": [
      "              precision    recall  f1-score   support\n",
      "\n",
      "           0       0.88      0.85      0.87        27\n",
      "           1       0.78      0.82      0.80        17\n",
      "\n",
      "    accuracy                           0.84        44\n",
      "   macro avg       0.83      0.84      0.83        44\n",
      "weighted avg       0.84      0.84      0.84        44\n",
      "\n"
     ]
    }
   ],
   "source": [
    "# Ocena modelu\n",
    "from sklearn.metrics import confusion_matrix, classification_report\n",
    "print(classification_report(y_test, preds))"
   ]
  },
  {
   "cell_type": "markdown",
   "id": "bfc786dc",
   "metadata": {},
   "source": [
    "Wyniki weighted i macro avg oraz accuracy są bardzo podobne co oznacza że model dobrze działa."
   ]
  },
  {
   "cell_type": "code",
   "execution_count": 83,
   "id": "c7b6d52b",
   "metadata": {},
   "outputs": [
    {
     "data": {
      "text/plain": [
       "array([[23,  4],\n",
       "       [ 3, 14]])"
      ]
     },
     "execution_count": 83,
     "metadata": {},
     "output_type": "execute_result"
    }
   ],
   "source": [
    "confusion_matrix(y_test, preds)"
   ]
  },
  {
   "cell_type": "code",
   "execution_count": 84,
   "id": "5c96346b",
   "metadata": {},
   "outputs": [
    {
     "data": {
      "text/plain": [
       "0.8376906318082789"
      ]
     },
     "execution_count": 84,
     "metadata": {},
     "output_type": "execute_result"
    }
   ],
   "source": [
    "roc_auc_score (y_test, preds)"
   ]
  },
  {
   "cell_type": "code",
   "execution_count": 85,
   "id": "db5661e1",
   "metadata": {},
   "outputs": [],
   "source": [
    "xgb_cl = xgb.XGBClassifier()"
   ]
  },
  {
   "cell_type": "code",
   "execution_count": 86,
   "id": "fb1b7f0a",
   "metadata": {},
   "outputs": [],
   "source": [
    "# Tuningowanie hiperparametrów\n",
    "param_grid = {\n",
    "    \"max_depth\": [3, 4, 5, 7, 9, 15],\n",
    "    \"learning_rate\": [0.1, 0.01, 0.05, 0.2, 0.5, 0.8],\n",
    "    \"gamma\": [0, 0.25, 1],\n",
    "    \"reg_lambda\": [0, 1, 10],\n",
    "    \"scale_pos_weight\": [1, 3, 5],\n",
    "    'n_estimators': [1, 4, 5, 40, 60, 80, 100],\n",
    "}"
   ]
  },
  {
   "cell_type": "code",
   "execution_count": 87,
   "id": "cb34153b",
   "metadata": {},
   "outputs": [],
   "source": [
    "from sklearn.model_selection import GridSearchCV\n",
    "\n",
    "# Init klasyfikator\n",
    "xgb_cl = xgb.XGBClassifier(objective=\"reg:logistic\")\n",
    "\n",
    "# Init Grid Search\n",
    "grid_cv = GridSearchCV(xgb_cl, param_grid, n_jobs=-1, cv=3, scoring=\"roc_auc\")\n",
    "\n",
    "# Fit\n",
    "_ = grid_cv.fit(X_train, y_train)\n"
   ]
  },
  {
   "cell_type": "code",
   "execution_count": 88,
   "id": "842c69cf",
   "metadata": {},
   "outputs": [
    {
     "data": {
      "text/plain": [
       "0.8910813111962538"
      ]
     },
     "execution_count": 88,
     "metadata": {},
     "output_type": "execute_result"
    }
   ],
   "source": [
    "grid_cv.best_score_"
   ]
  },
  {
   "cell_type": "code",
   "execution_count": 89,
   "id": "5ca90f87",
   "metadata": {},
   "outputs": [
    {
     "data": {
      "text/plain": [
       "{'gamma': 0.25,\n",
       " 'learning_rate': 0.5,\n",
       " 'max_depth': 4,\n",
       " 'n_estimators': 40,\n",
       " 'reg_lambda': 10,\n",
       " 'scale_pos_weight': 3}"
      ]
     },
     "execution_count": 89,
     "metadata": {},
     "output_type": "execute_result"
    }
   ],
   "source": [
    "grid_cv.best_params_"
   ]
  },
  {
   "cell_type": "code",
   "execution_count": 90,
   "id": "600faaf6",
   "metadata": {},
   "outputs": [
    {
     "data": {
      "text/plain": [
       "array([0.27032492, 0.593118  , 0.13655709], dtype=float32)"
      ]
     },
     "execution_count": 90,
     "metadata": {},
     "output_type": "execute_result"
    }
   ],
   "source": [
    "grid_cv.best_estimator_.feature_importances_"
   ]
  },
  {
   "cell_type": "code",
   "execution_count": 91,
   "id": "1c89e0d2",
   "metadata": {},
   "outputs": [
    {
     "data": {
      "text/html": [
       "<div>\n",
       "<style scoped>\n",
       "    .dataframe tbody tr th:only-of-type {\n",
       "        vertical-align: middle;\n",
       "    }\n",
       "\n",
       "    .dataframe tbody tr th {\n",
       "        vertical-align: top;\n",
       "    }\n",
       "\n",
       "    .dataframe thead th {\n",
       "        text-align: right;\n",
       "    }\n",
       "</style>\n",
       "<table border=\"1\" class=\"dataframe\">\n",
       "  <thead>\n",
       "    <tr style=\"text-align: right;\">\n",
       "      <th></th>\n",
       "      <th>Importance</th>\n",
       "    </tr>\n",
       "  </thead>\n",
       "  <tbody>\n",
       "    <tr>\n",
       "      <th>cp</th>\n",
       "      <td>0.270325</td>\n",
       "    </tr>\n",
       "    <tr>\n",
       "      <th>exang</th>\n",
       "      <td>0.593118</td>\n",
       "    </tr>\n",
       "    <tr>\n",
       "      <th>oldpeak</th>\n",
       "      <td>0.136557</td>\n",
       "    </tr>\n",
       "  </tbody>\n",
       "</table>\n",
       "</div>"
      ],
      "text/plain": [
       "         Importance\n",
       "cp         0.270325\n",
       "exang      0.593118\n",
       "oldpeak    0.136557"
      ]
     },
     "execution_count": 91,
     "metadata": {},
     "output_type": "execute_result"
    }
   ],
   "source": [
    "feat_import = grid_cv.best_estimator_.feature_importances_\n",
    "imp_feats = pd.DataFrame(index=X.columns,data=feat_import,columns=['Importance'])\n",
    "imp_feats"
   ]
  },
  {
   "cell_type": "code",
   "execution_count": null,
   "id": "3b1d3946",
   "metadata": {},
   "outputs": [],
   "source": [
    "# OSTATECZNY MODEL"
   ]
  },
  {
   "cell_type": "code",
   "execution_count": 72,
   "id": "34b7144e",
   "metadata": {},
   "outputs": [
    {
     "data": {
      "text/plain": [
       "XGBClassifier(base_score=None, booster=None, callbacks=None,\n",
       "              colsample_bylevel=None, colsample_bynode=None,\n",
       "              colsample_bytree=0.5, early_stopping_rounds=None,\n",
       "              enable_categorical=False, eval_metric=None, feature_types=None,\n",
       "              gamma=0.25, gpu_id=None, grow_policy=None, importance_type=None,\n",
       "              interaction_constraints=None, learning_rate=0.5, max_bin=None,\n",
       "              max_cat_threshold=None, max_cat_to_onehot=None,\n",
       "              max_delta_step=None, max_depth=4, max_leaves=None,\n",
       "              min_child_weight=None, missing=nan, monotone_constraints=None,\n",
       "              n_estimators=40, n_jobs=None, num_parallel_tree=None,\n",
       "              objective='reg:logistic', predictor=None, ...)"
      ]
     },
     "execution_count": 72,
     "metadata": {},
     "output_type": "execute_result"
    }
   ],
   "source": [
    "final_cl = xgb.XGBClassifier(\n",
    "    objective=\"reg:logistic\",\n",
    "    **grid_cv.best_params_,\n",
    "    colsample_bytree=0.5,\n",
    "    subsample=0.8\n",
    ")\n",
    "\n",
    "final_cl.fit(X, y)\n"
   ]
  },
  {
   "cell_type": "code",
   "execution_count": 57,
   "id": "da7d3703",
   "metadata": {},
   "outputs": [],
   "source": [
    "import pickle\n",
    "# ZAPISANIE MODELU\n",
    "with open('final_model.pkl', 'wb') as file:\n",
    "    pickle.dump(final_cl, file)"
   ]
  },
  {
   "cell_type": "code",
   "execution_count": 58,
   "id": "1ee233c4",
   "metadata": {},
   "outputs": [],
   "source": [
    "# ZAŁADOWANIE MODELU Z PLIKU\n",
    "with open('final_model.pkl', 'rb') as file:\n",
    "    final_cl = pickle.load(file)"
   ]
  },
  {
   "cell_type": "code",
   "execution_count": 67,
   "id": "605ec0db",
   "metadata": {},
   "outputs": [
    {
     "name": "stdout",
     "output_type": "stream",
     "text": [
      "[0]\n"
     ]
    }
   ],
   "source": [
    "# PREDYKCJE NA NOWYCH DANYCH\n",
    "cardiac_score = np.array([[2, 0, 0.0]]) # _cp, _exang, _oldpeak scores\n",
    "predictions = final_cl.predict(cardiac_score)\n",
    "print(predictions)"
   ]
  },
  {
   "cell_type": "code",
   "execution_count": null,
   "id": "c53bd6f0",
   "metadata": {},
   "outputs": [],
   "source": []
  },
  {
   "cell_type": "code",
   "execution_count": null,
   "id": "6740b103",
   "metadata": {},
   "outputs": [],
   "source": []
  }
 ],
 "metadata": {
  "kernelspec": {
   "display_name": "Python 3 (ipykernel)",
   "language": "python",
   "name": "python3"
  },
  "language_info": {
   "codemirror_mode": {
    "name": "ipython",
    "version": 3
   },
   "file_extension": ".py",
   "mimetype": "text/x-python",
   "name": "python",
   "nbconvert_exporter": "python",
   "pygments_lexer": "ipython3",
   "version": "3.9.13"
  }
 },
 "nbformat": 4,
 "nbformat_minor": 5
}
