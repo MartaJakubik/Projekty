{
 "cells": [
  {
   "cell_type": "code",
   "execution_count": 8,
   "id": "3b2c3f7f",
   "metadata": {},
   "outputs": [],
   "source": [
    "import numpy as np\n",
    "import pandas as pd\n",
    "from sklearn.model_selection import train_test_split\n",
    "from sklearn.preprocessing import LabelEncoder\n",
    "from sklearn.metrics import classification_report\n",
    "import xgboost as xgb\n",
    "import matplotlib.pyplot as plt\n",
    "from sklearn.metrics import accuracy_score, roc_auc_score\n",
    "from sklearn.preprocessing import MinMaxScaler\n",
    "from sklearn.model_selection import GridSearchCV"
   ]
  },
  {
   "cell_type": "markdown",
   "id": "37481948",
   "metadata": {},
   "source": [
    "# KROK 1: WSTĘPNA ANALIZA"
   ]
  },
  {
   "cell_type": "code",
   "execution_count": 2,
   "id": "c839f5ec",
   "metadata": {},
   "outputs": [
    {
     "data": {
      "text/html": [
       "<div>\n",
       "<style scoped>\n",
       "    .dataframe tbody tr th:only-of-type {\n",
       "        vertical-align: middle;\n",
       "    }\n",
       "\n",
       "    .dataframe tbody tr th {\n",
       "        vertical-align: top;\n",
       "    }\n",
       "\n",
       "    .dataframe thead th {\n",
       "        text-align: right;\n",
       "    }\n",
       "</style>\n",
       "<table border=\"1\" class=\"dataframe\">\n",
       "  <thead>\n",
       "    <tr style=\"text-align: right;\">\n",
       "      <th></th>\n",
       "      <th>class</th>\n",
       "      <th>alcohol</th>\n",
       "      <th>malic_acid</th>\n",
       "      <th>ash</th>\n",
       "      <th>alcalinity_of_ash</th>\n",
       "      <th>magnesium</th>\n",
       "      <th>total_phenols</th>\n",
       "      <th>flavanoids</th>\n",
       "      <th>nonflavanoid_phenols</th>\n",
       "      <th>proanthocyanins</th>\n",
       "      <th>color_intensity</th>\n",
       "      <th>hue</th>\n",
       "      <th>diluted_wines</th>\n",
       "      <th>proline</th>\n",
       "    </tr>\n",
       "  </thead>\n",
       "  <tbody>\n",
       "    <tr>\n",
       "      <th>0</th>\n",
       "      <td>1</td>\n",
       "      <td>14.23</td>\n",
       "      <td>1.71</td>\n",
       "      <td>2.43</td>\n",
       "      <td>15.6</td>\n",
       "      <td>127</td>\n",
       "      <td>2.80</td>\n",
       "      <td>3.06</td>\n",
       "      <td>0.28</td>\n",
       "      <td>2.29</td>\n",
       "      <td>5.64</td>\n",
       "      <td>1.04</td>\n",
       "      <td>3.92</td>\n",
       "      <td>1065</td>\n",
       "    </tr>\n",
       "    <tr>\n",
       "      <th>1</th>\n",
       "      <td>1</td>\n",
       "      <td>13.20</td>\n",
       "      <td>1.78</td>\n",
       "      <td>2.14</td>\n",
       "      <td>11.2</td>\n",
       "      <td>100</td>\n",
       "      <td>2.65</td>\n",
       "      <td>2.76</td>\n",
       "      <td>0.26</td>\n",
       "      <td>1.28</td>\n",
       "      <td>4.38</td>\n",
       "      <td>1.05</td>\n",
       "      <td>3.40</td>\n",
       "      <td>1050</td>\n",
       "    </tr>\n",
       "    <tr>\n",
       "      <th>2</th>\n",
       "      <td>1</td>\n",
       "      <td>13.16</td>\n",
       "      <td>2.36</td>\n",
       "      <td>2.67</td>\n",
       "      <td>18.6</td>\n",
       "      <td>101</td>\n",
       "      <td>2.80</td>\n",
       "      <td>3.24</td>\n",
       "      <td>0.30</td>\n",
       "      <td>2.81</td>\n",
       "      <td>5.68</td>\n",
       "      <td>1.03</td>\n",
       "      <td>3.17</td>\n",
       "      <td>1185</td>\n",
       "    </tr>\n",
       "    <tr>\n",
       "      <th>3</th>\n",
       "      <td>1</td>\n",
       "      <td>14.37</td>\n",
       "      <td>1.95</td>\n",
       "      <td>2.50</td>\n",
       "      <td>16.8</td>\n",
       "      <td>113</td>\n",
       "      <td>3.85</td>\n",
       "      <td>3.49</td>\n",
       "      <td>0.24</td>\n",
       "      <td>2.18</td>\n",
       "      <td>7.80</td>\n",
       "      <td>0.86</td>\n",
       "      <td>3.45</td>\n",
       "      <td>1480</td>\n",
       "    </tr>\n",
       "    <tr>\n",
       "      <th>4</th>\n",
       "      <td>1</td>\n",
       "      <td>13.24</td>\n",
       "      <td>2.59</td>\n",
       "      <td>2.87</td>\n",
       "      <td>21.0</td>\n",
       "      <td>118</td>\n",
       "      <td>2.80</td>\n",
       "      <td>2.69</td>\n",
       "      <td>0.39</td>\n",
       "      <td>1.82</td>\n",
       "      <td>4.32</td>\n",
       "      <td>1.04</td>\n",
       "      <td>2.93</td>\n",
       "      <td>735</td>\n",
       "    </tr>\n",
       "  </tbody>\n",
       "</table>\n",
       "</div>"
      ],
      "text/plain": [
       "   class  alcohol  malic_acid   ash  alcalinity_of_ash  magnesium  \\\n",
       "0      1    14.23        1.71  2.43               15.6        127   \n",
       "1      1    13.20        1.78  2.14               11.2        100   \n",
       "2      1    13.16        2.36  2.67               18.6        101   \n",
       "3      1    14.37        1.95  2.50               16.8        113   \n",
       "4      1    13.24        2.59  2.87               21.0        118   \n",
       "\n",
       "   total_phenols  flavanoids  nonflavanoid_phenols  proanthocyanins  \\\n",
       "0           2.80        3.06                  0.28             2.29   \n",
       "1           2.65        2.76                  0.26             1.28   \n",
       "2           2.80        3.24                  0.30             2.81   \n",
       "3           3.85        3.49                  0.24             2.18   \n",
       "4           2.80        2.69                  0.39             1.82   \n",
       "\n",
       "   color_intensity   hue  diluted_wines  proline  \n",
       "0             5.64  1.04           3.92     1065  \n",
       "1             4.38  1.05           3.40     1050  \n",
       "2             5.68  1.03           3.17     1185  \n",
       "3             7.80  0.86           3.45     1480  \n",
       "4             4.32  1.04           2.93      735  "
      ]
     },
     "execution_count": 2,
     "metadata": {},
     "output_type": "execute_result"
    }
   ],
   "source": [
    "# Zaimortowanie bazy danych\n",
    "url = 'https://archive.ics.uci.edu/ml/machine-learning-databases/wine/wine.data'\n",
    "df = pd.read_csv(url, header=None)\n",
    "column_names = ['class', 'alcohol', 'malic_acid', 'ash', 'alcalinity_of_ash', 'magnesium', 'total_phenols',\n",
    "                'flavanoids', 'nonflavanoid_phenols', 'proanthocyanins', 'color_intensity', 'hue',\n",
    "                'diluted_wines', 'proline']\n",
    "df.columns = column_names\n",
    "df.head()"
   ]
  },
  {
   "cell_type": "markdown",
   "id": "7399258e",
   "metadata": {},
   "source": [
    "# KROK 2: PRZYGOTOWANIE DANYCH"
   ]
  },
  {
   "cell_type": "code",
   "execution_count": 3,
   "id": "9b8ca8ce",
   "metadata": {},
   "outputs": [],
   "source": [
    "# Podział danych na features i target\n",
    "X = df.drop('class', axis=1)\n",
    "y = df['class']"
   ]
  },
  {
   "cell_type": "code",
   "execution_count": 4,
   "id": "b2bed155",
   "metadata": {},
   "outputs": [],
   "source": [
    "# Standaryzacja danych\n",
    "label_encoder = LabelEncoder()\n",
    "y = label_encoder.fit_transform(y)\n",
    "X = MinMaxScaler().fit_transform(X)"
   ]
  },
  {
   "cell_type": "code",
   "execution_count": 5,
   "id": "56a8f9a3",
   "metadata": {},
   "outputs": [],
   "source": [
    "# Podział danych na zbiór treningowy i testowy\n",
    "X_train, X_test, y_train, y_test = train_test_split(X, y, test_size=0.20, random_state=101)\n"
   ]
  },
  {
   "cell_type": "markdown",
   "id": "c4ebc97f",
   "metadata": {},
   "source": [
    "# KROK 3: STWORZENIE MODELU OPARTEGO NA XGBOOST"
   ]
  },
  {
   "cell_type": "code",
   "execution_count": null,
   "id": "f7f9e345",
   "metadata": {},
   "outputs": [],
   "source": [
    "xgb_cl = xgb.XGBClassifier()"
   ]
  },
  {
   "cell_type": "markdown",
   "id": "aa7af32b",
   "metadata": {},
   "source": [
    "# KROK 4: TRENING I WALIDACJA"
   ]
  },
  {
   "cell_type": "code",
   "execution_count": 6,
   "id": "f48e9141",
   "metadata": {
    "scrolled": true
   },
   "outputs": [
    {
     "name": "stdout",
     "output_type": "stream",
     "text": [
      "XGBoost Classification Report:\n",
      "              precision    recall  f1-score   support\n",
      "\n",
      "           0       1.00      0.93      0.96        14\n",
      "           1       1.00      0.92      0.96        13\n",
      "           2       0.82      1.00      0.90         9\n",
      "\n",
      "    accuracy                           0.94        36\n",
      "   macro avg       0.94      0.95      0.94        36\n",
      "weighted avg       0.95      0.94      0.95        36\n",
      "\n"
     ]
    }
   ],
   "source": [
    "# Trenowanie modelu\n",
    "xgb_cl.fit(X_train, y_train)\n",
    "\n",
    "# Przewidywanie na zbiorze testowym\n",
    "y_test_preds_xgb = xgb_cl.predict(X_test)\n",
    "\n",
    "# Ocena wyników\n",
    "print(\"XGBoost Classification Report:\")\n",
    "print(classification_report(y_test, y_test_preds_xgb))"
   ]
  },
  {
   "cell_type": "code",
   "execution_count": 26,
   "id": "7d6e39ae",
   "metadata": {},
   "outputs": [
    {
     "data": {
      "text/plain": [
       "0.9444444444444444"
      ]
     },
     "execution_count": 26,
     "metadata": {},
     "output_type": "execute_result"
    }
   ],
   "source": [
    "accuracy_score(y_test, y_test_preds_xgb)"
   ]
  },
  {
   "cell_type": "markdown",
   "id": "dc6d96a6",
   "metadata": {},
   "source": [
    "# KROK 5: OPTYMALIZACJA PARAMETRÓW"
   ]
  },
  {
   "cell_type": "code",
   "execution_count": 7,
   "id": "a982cf75",
   "metadata": {},
   "outputs": [],
   "source": [
    "param_grid = {\n",
    "    \"max_depth\": [2, 3, 4, 5, 7, 9, 15],\n",
    "    \"learning_rate\": [0.1, 0.01, 0.05, 0.2, 0.5, 0.8],\n",
    "    'n_estimators': [1, 4, 5, 10, 20, 40, 100],\n",
    "}"
   ]
  },
  {
   "cell_type": "code",
   "execution_count": 10,
   "id": "51e87b09",
   "metadata": {},
   "outputs": [],
   "source": [
    "# Init klasyfikator\n",
    "xgb_cl = xgb.XGBClassifier(objective=\"reg:logistic\")\n",
    "\n",
    "# Init Grid Search\n",
    "grid_cv = GridSearchCV(xgb_cl, param_grid, n_jobs=-1, cv=3, scoring=\"accuracy\")\n",
    "\n",
    "# Fit\n",
    "_ = grid_cv.fit(X_train, y_train)"
   ]
  },
  {
   "cell_type": "code",
   "execution_count": 11,
   "id": "f5953e55",
   "metadata": {},
   "outputs": [
    {
     "data": {
      "text/plain": [
       "0.978871158392435"
      ]
     },
     "execution_count": 11,
     "metadata": {},
     "output_type": "execute_result"
    }
   ],
   "source": [
    "grid_cv.best_score_"
   ]
  },
  {
   "cell_type": "code",
   "execution_count": null,
   "id": "5a9997e7",
   "metadata": {},
   "outputs": [],
   "source": [
    "# na podstawie 13 features model w 98% przewiduje do jakiej z 3 klas należy wino"
   ]
  },
  {
   "cell_type": "code",
   "execution_count": 12,
   "id": "ad63fb87",
   "metadata": {},
   "outputs": [
    {
     "data": {
      "text/plain": [
       "{'learning_rate': 0.5, 'max_depth': 3, 'n_estimators': 20}"
      ]
     },
     "execution_count": 12,
     "metadata": {},
     "output_type": "execute_result"
    }
   ],
   "source": [
    "grid_cv.best_params_"
   ]
  },
  {
   "cell_type": "code",
   "execution_count": 13,
   "id": "07abf468",
   "metadata": {},
   "outputs": [
    {
     "data": {
      "text/plain": [
       "array([1.7579518e-02, 4.3910369e-02, 7.3612062e-03, 4.3159877e-03,\n",
       "       8.9083038e-02, 7.4833422e-04, 1.4431599e-01, 1.3253583e-03,\n",
       "       3.3235323e-04, 1.5412460e-01, 1.9095754e-02, 3.6425728e-01,\n",
       "       1.5355018e-01], dtype=float32)"
      ]
     },
     "execution_count": 13,
     "metadata": {},
     "output_type": "execute_result"
    }
   ],
   "source": [
    "grid_cv.best_estimator_.feature_importances_"
   ]
  },
  {
   "cell_type": "markdown",
   "id": "92bdeaea",
   "metadata": {},
   "source": [
    "# KROK 6: ULEPSZENIE MODELU"
   ]
  },
  {
   "cell_type": "markdown",
   "id": "266fd031",
   "metadata": {},
   "source": [
    "Nasz model osiągnął najlepsze wyniki przy następujących parametrach 'learning_rate': 0.5, 'max_depth': 3, 'n_estimators': 20"
   ]
  },
  {
   "cell_type": "markdown",
   "id": "15c2d43d",
   "metadata": {},
   "source": [
    "### PODSUMOWANIE"
   ]
  },
  {
   "cell_type": "markdown",
   "id": "2535f484",
   "metadata": {},
   "source": [
    "**Prosta sieć neuronowa (MODEL 1):**\n",
    "- Dokładność (accuracy) na zbiorze testowym wynosi 1.0000 (100%).\n",
    "- W raporcie klasyfikacji (classification report) widać, że dla każdej klasy uzyskano 100% precision, recall i F1-score.\n",
    "- Wartość straty (loss) na zbiorze testowym wynosi 0.0499.\n",
    "\n",
    "**Model XGBoost (MODEL 2):**\n",
    "- Dokładność (accuracy_score) na zbiorze testowym wynosi 0.9444 (94.44%).\n",
    "- Najlepszy wynik uzyskany podczas przeszukiwania siatki (grid search) wynosi 0.9789 (97.89%).\n",
    "- W raporcie klasyfikacji widać, że dla klasy 0, precision wynosi 1.00, recall wynosi 0.93, a F1-score wynosi 0.96. Dla klasy 1, precision wynosi 1.00, recall wynosi 0.92, a F1-score wynosi 0.96. Dla klasy 2, precision wynosi 0.82, recall wynosi 1.00, a F1-score wynosi 0.90.\n",
    "\n",
    "**Porównanie obu modeli:**\n",
    "\n",
    "**Model 1 (Prosta sieć neuronowa)** \n",
    "osiąga dokładność 100%, co sugeruje, że doskonale radzi sobie z klasyfikacją. Precision, recall i F1-score wynoszą 100% dla wszystkich klas, co świadczy o pełnej poprawności predykcji.\n",
    "\n",
    "**Model 2 (XGBoost)** \n",
    "ma nieco niższą dokładność na poziomie 94.44% na zbiorze testowym. Jednak podczas przeszukiwania siatki, osiągnął najlepszy wynik na poziomie 97.89%, co wskazuje, że przy optymalnie dobranych parametrach, może dawać bardzo dobre rezultaty.\n",
    "\n",
    "**Wnioski:**\n",
    "\n",
    "**Model 1 (Prosta sieć neuronowa)** \n",
    "osiąga wyższą dokładność i idealne wyniki dla wszystkich metryk klasyfikacji. Wydaje się być lepszy od Modelu 2 (XGBoost) na podstawie osiągniętych wyników. Wymaga mniejszego wkładu pracy i osiąga lepsze wyniki.\n",
    "\n",
    "**Model 2 (XGBoost)** \n",
    "może być bardziej złożony do konfiguracji, ale z odpowiednim dostrojeniem parametrów, może uzyskać bardzo dobre wyniki. "
   ]
  }
 ],
 "metadata": {
  "kernelspec": {
   "display_name": "Python 3 (ipykernel)",
   "language": "python",
   "name": "python3"
  },
  "language_info": {
   "codemirror_mode": {
    "name": "ipython",
    "version": 3
   },
   "file_extension": ".py",
   "mimetype": "text/x-python",
   "name": "python",
   "nbconvert_exporter": "python",
   "pygments_lexer": "ipython3",
   "version": "3.9.13"
  }
 },
 "nbformat": 4,
 "nbformat_minor": 5
}
