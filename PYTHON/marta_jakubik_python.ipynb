{
 "cells": [
  {
   "cell_type": "markdown",
   "metadata": {},
   "source": [
    "### 1. Zadanie\n",
    "\n",
    "Otrzymaliśmy dane w następującej postaci: \"{dzień tygodnia};{cztery znaki zawierające wskazanie czujnika}\" (zawsze są to 4 znaki!). Napisz skrypt, który wygeneruje raport z konkretnego dnia na prośbę użytkownika:\n",
    "\n",
    "- Podaj dzień dla którego ma zostać wyliczony raport (wielkość liter nie powinna mieć znaczenia,; dzień mozna wybierać dowolnie)\n",
    "- Pobierz odpowiednią wartość z danych\n",
    "- Przelicz wskazanie czujnika na temperaturę dzieląc przez wartość z tabeli\n",
    "- Wypisz temperaturę z dokładnością do trzeciego miejsca po przecinku (tak jak na przykładzie) i ze znakiem specjalnym ℃ (\\u2103)\n",
    "- BONUS. Do punktu 1 dodaj walidację - upewnij się, że użytkownik podał jeden z dni który możemy znaleźć w danych\n",
    "- BONUS. Do punktu 4 dodaj wizualizację temperatury w zakresie 0 do 100 stopni na pasku złożonym z 20 znaków (np. dla 50 stopni, zapełnione jest 10/20 znaków)\n"
   ]
  },
  {
   "cell_type": "code",
   "execution_count": 1,
   "metadata": {},
   "outputs": [],
   "source": [
    "data = \"\"\"\n",
    "monday;1250\n",
    "tuesday;1405\n",
    "wednesday;1750\n",
    "thursday;1100\n",
    "friday;0800\n",
    "saturday;1225\n",
    "sunday;1355\n",
    "\"\"\""
   ]
  },
  {
   "cell_type": "code",
   "execution_count": 2,
   "metadata": {},
   "outputs": [],
   "source": [
    "# stworzenie słownika\n",
    "slownik = {}\n",
    "for line in data.strip().split('\\n'):\n",
    "    dzien, wartosc = line.split(';')\n",
    "    slownik[dzien] = int(wartosc)"
   ]
  },
  {
   "cell_type": "code",
   "execution_count": 3,
   "metadata": {},
   "outputs": [
    {
     "name": "stdout",
     "output_type": "stream",
     "text": [
      "{'monday': 1250, 'tuesday': 1405, 'wednesday': 1750, 'thursday': 1100, 'friday': 800, 'saturday': 1225, 'sunday': 1355}\n"
     ]
    }
   ],
   "source": [
    "print(slownik)"
   ]
  },
  {
   "cell_type": "code",
   "execution_count": 4,
   "metadata": {},
   "outputs": [
    {
     "name": "stdout",
     "output_type": "stream",
     "text": [
      "Podaj dzień tygodnia: monday\n",
      "Wartość dla dnia monday to 1250\n"
     ]
    }
   ],
   "source": [
    "# pobranie od użytkownika dnia tygodnia\n",
    "dzien = input(\"Podaj dzień tygodnia: \").lower()\n",
    "\n",
    "if dzien in slownik:\n",
    "    wartosc = slownik[dzien]\n",
    "    print(f\"Wartość dla dnia {dzien} to {wartosc}\") \n"
   ]
  },
  {
   "cell_type": "code",
   "execution_count": 5,
   "metadata": {},
   "outputs": [
    {
     "name": "stdout",
     "output_type": "stream",
     "text": [
      "Wprowadź wskazanie czujnika: 1250\n",
      "Temperatura:  54.11255411255411\n"
     ]
    }
   ],
   "source": [
    "wskazanie = int(input(\"Wprowadź wskazanie czujnika: \"))\n",
    "\n",
    "if wskazanie >= 1400:\n",
    "    wynik = wskazanie / 22.5\n",
    "elif wskazanie >= 1200:\n",
    "    wynik = wskazanie / 23.1\n",
    "else:\n",
    "    wynik = wskazanie / 23.5\n",
    "\n",
    "print(\"Temperatura: \", wynik)"
   ]
  },
  {
   "cell_type": "code",
   "execution_count": 6,
   "metadata": {},
   "outputs": [
    {
     "name": "stdout",
     "output_type": "stream",
     "text": [
      "Wprowadź wskazanie czujnika: 1250\n",
      "Temperatura: 54.113℃\n"
     ]
    }
   ],
   "source": [
    "wskazanie = int(input(\"Wprowadź wskazanie czujnika: \"))\n",
    "\n",
    "if wskazanie >= 1400:\n",
    "    wynik = wskazanie / 22.5\n",
    "elif wskazanie >= 1200:\n",
    "    wynik = wskazanie / 23.1\n",
    "else:\n",
    "    wynik = wskazanie / 23.5\n",
    "\n",
    "print(\"Temperatura: {:.3f}℃\".format(wynik))"
   ]
  },
  {
   "cell_type": "code",
   "execution_count": null,
   "metadata": {},
   "outputs": [
    {
     "name": "stdout",
     "output_type": "stream",
     "text": [
      "Podaj dzień tygodnia: monnday\n",
      "Podałeś niepoprawny dzień tygodnia. Spróbuj ponownie.\n"
     ]
    }
   ],
   "source": [
    "# bonus\n",
    "while True:\n",
    "    dzien = input(\"Podaj dzień tygodnia: \").lower()\n",
    "    if dzien in slownik:  \n",
    "        wartosc = slownik[dzien]\n",
    "        print(f\"Wartość dla dnia {dzien} to {wartosc}\")\n",
    "        break  \n",
    "    else:\n",
    "        print(\"Podałeś niepoprawny dzień tygodnia. Spróbuj ponownie.\")"
   ]
  },
  {
   "cell_type": "markdown",
   "metadata": {},
   "source": [
    "Przykładowe wyjście:\n",
    "\n",
    "Dane dla \"thursday\"\n",
    "\n",
    "Wskazanie czujnika: 1100\n",
    "\n",
    "Temperatura: 46.809℃\n",
    "\n",
    "0℃ |#########-----------| 100℃  # BONUS"
   ]
  },
  {
   "cell_type": "markdown",
   "metadata": {},
   "source": [
    "## Zadanie 2.\n",
    " \n",
    "Sklep internetowy (use case) Wyobraź sobie, że jesteś właścicielem sklepu internetowego, oraz magazynu, który przechowuje Twoje produkty. Zdefiniuj jakie produkty chcesz sprzedawać. Zastanów się jak możesz skorzystać z poznanych metod programowania obiektowego w swoim biznesie. Przemyśl jakie cechy charakteryzują Twoje obiekty i jakie metody mogą być dla Ciebie użyteczne.\n",
    "\n",
    "1. Rozważ funkcje produktów - nie zapomnij też o cenie, czy ilości na stanie\n",
    "2. rozważ funkcję zakupu/sprzedaży produktu (zarobek i zmiana na stanie) \n",
    "3. Dodaj klika produktów\n",
    "4. Zademonstruj działanie funkcji"
   ]
  },
  {
   "cell_type": "code",
   "execution_count": 27,
   "metadata": {},
   "outputs": [],
   "source": [
    "class Zabawka:\n",
    "    def __init__(self, nazwa, marka, cena, ilosc_na_stanie):\n",
    "        self.nazwa = nazwa\n",
    "        self.marka = marka\n",
    "        self.cena = cena\n",
    "        self.ilosc_na_stanie = ilosc_na_stanie\n",
    "\n",
    "    def get_nazwa(self):\n",
    "        return self.nazwa\n",
    "\n",
    "    def get_marka(self):\n",
    "        return self.marka\n",
    "    \n",
    "    def get_cena(self):\n",
    "        return f\"Produkt kosztuje {self.cena} zł\"\n",
    "\n",
    "    def get_ilosc(self):\n",
    "        return f\"Stan magazynowy: {self.ilosc_na_stanie} sztuk\"\n",
    "    \n",
    "    def oblicz_rabat(self, procent):\n",
    "        rabat = self.cena * procent / 100\n",
    "        nowa_cena = self.cena - rabat\n",
    "        print(f\"Produkt: {self.nazwa}\")\n",
    "        print(f\"Stara cena: {self.cena} zł\")\n",
    "        print(f\"Rabat: {procent}%\")\n",
    "        print(f\"Nowa cena: {nowa_cena} zł\")\n",
    "    \n",
    "    def kup_produkt(self, ilosc):\n",
    "            self.ilosc_na_stanie += ilosc\n",
    "            return f\"Zakupiłeś {ilosc} sztuk produktu {self.nazwa}. Zapłaciłeś {ilosc*self.cena} zł. Stan magazynowy: {self.ilosc_na_stanie} sztuk.\"\n",
    "            \n",
    "    def sprzedaj_produkt(self, ilosc):\n",
    "        if ilosc > self.ilosc_na_stanie:\n",
    "            print(\"Brak wystarczającej ilości produktów na stanie\")\n",
    "        else:\n",
    "            self.ilosc_na_stanie -= ilosc\n",
    "            return f\"Sprzedałeś {ilosc} sztuk produktu {self.nazwa}. Zarobiłeś {round((ilosc*self.cena)*0.7, 2)} zł. Stan magazynowy: {self.ilosc_na_stanie} sztuk.\"\n",
    "       "
   ]
  },
  {
   "cell_type": "code",
   "execution_count": 28,
   "metadata": {},
   "outputs": [],
   "source": [
    "Lego = Zabawka(\"Klocki\", \"Lego\", 100, 10)\n",
    "Playmobil = Zabawka(\"Klocki\", \"Playmobil\", 50, 20)\n",
    "HotWheels = Zabawka(\"Samochód na zdalne sterowanie\", \"Hot Wheels\", 200, 5)\n",
    "Barbie = Zabawka(\"Lalka\", \"Barbie\", 90, 15)\n",
    "Trefl = Zabawka(\"Puzle\", \"Trefl\", 25, 120)\n",
    "RainbowHigh = Zabawka(\"Lalka\", \"Rainbow High\", 130, 20)"
   ]
  },
  {
   "cell_type": "code",
   "execution_count": 29,
   "metadata": {},
   "outputs": [
    {
     "data": {
      "text/plain": [
       "'Sprzedałeś 5 sztuk produktu Klocki. Zarobiłeś 350.0 zł. Stan magazynowy: 5 sztuk.'"
      ]
     },
     "execution_count": 29,
     "metadata": {},
     "output_type": "execute_result"
    }
   ],
   "source": [
    "Lego.sprzedaj_produkt(5)"
   ]
  },
  {
   "cell_type": "code",
   "execution_count": 30,
   "metadata": {},
   "outputs": [],
   "source": [
    "class Klocki(Zabawka):\n",
    "    def __init__(self, nazwa, marka, cena, ilosc_na_stanie, grupa_wiekowa):\n",
    "        super().__init__(nazwa, marka, cena, ilosc_na_stanie)\n",
    "        self.grupa_wiekowa = grupa_wiekowa\n",
    "\n",
    "    def wyswietl_dane(self):\n",
    "        print(f\"Produkt: {self.nazwa}\")\n",
    "        print(f\"Opis: {self.marka}\")\n",
    "        print(f\"Cena: {self.cena} zł\")\n",
    "        print(f\"Ilość na stanie: {self.ilosc_na_stanie}\")\n",
    "        print(f\"Grupa wiekowa: {self.grupa_wiekowa}\")\n",
    "        \n",
    "class Puzle(Zabawka):\n",
    "    def __init__(self, nazwa, marka, cena, ilosc_na_stanie, ilosc_elementow):\n",
    "        super().__init__(nazwa, marka, cena, ilosc_na_stanie)\n",
    "        self.ilosc_elementow = ilosc_elementow\n",
    "        \n",
    "    def wyswietl_dane(self):\n",
    "        print(f\"Produkt: {self.nazwa}\")\n",
    "        print(f\"Opis: {self.marka}\")\n",
    "        print(f\"Cena: {self.cena} zł\")\n",
    "        print(f\"Ilość na stanie: {self.ilosc_na_stanie}\")\n",
    "        print(f\"Ilość elementów: {self.ilosc_elementow}\")\n",
    "\n",
    "class Lalka(Zabawka):\n",
    "    def __init__(self, nazwa, marka, cena, ilosc_na_stanie, rodzaj):\n",
    "        super().__init__(nazwa, marka, cena, ilosc_na_stanie)\n",
    "        self.rodzaj = rodzaj\n",
    "        \n",
    "    def wyswietl_dane(self):\n",
    "        print(f\"Produkt: {self.nazwa}\")\n",
    "        print(f\"Opis: {self.marka}\")\n",
    "        print(f\"Cena: {self.cena} zł\")\n",
    "        print(f\"Ilość na stanie: {self.ilosc_na_stanie}\")\n",
    "        print(f\"Rodzaj: {self.rodzaj}\")\n",
    "\n",
    "        \n",
    "class Samochod(Zabawka):\n",
    "    def __init__(self, nazwa, marka, cena, ilosc_na_stanie, rodzaj):\n",
    "        super().__init__(nazwa, marka, cena, ilosc_na_stanie)\n",
    "        self.rodzaj = rodzaj\n",
    "        \n",
    "    def wyswietl_dane(self):\n",
    "        print(f\"Produkt: {self.nazwa}\")\n",
    "        print(f\"Opis: {self.marka}\")\n",
    "        print(f\"Cena: {self.cena} zł\")\n",
    "        print(f\"Ilość na stanie: {self.ilosc_na_stanie}\")\n",
    "        print(f\"Rodzaj: {self.rodzaj}\")"
   ]
  },
  {
   "cell_type": "code",
   "execution_count": 31,
   "metadata": {},
   "outputs": [],
   "source": [
    "Lego = Klocki(\"Klocki\", \"Lego\", 100, 10, \"6+\")\n",
    "Playmobil = Klocki(\"Klocki\", \"Playmobil\", 50, 20, \"8+\")\n",
    "HotWheels = Samochod(\"Samochód na zdalne sterowanie\", \"Hot Wheels\", 200, 5, \"Na baterie\")\n",
    "Barbie = Lalka(\"Lalka\", \"Barbie\", 90, 15, \"Księżniczka\")\n",
    "Trefl = Puzle(\"Puzle\", \"Trefl\", 25, 120, \"100\")\n",
    "RainbowHigh = Lalka(\"Lalka\", \"Rainbow High\", 130, 20, \"Celebrytka\")"
   ]
  },
  {
   "cell_type": "code",
   "execution_count": 32,
   "metadata": {},
   "outputs": [
    {
     "name": "stdout",
     "output_type": "stream",
     "text": [
      "Produkt: Klocki\n",
      "Opis: Lego\n",
      "Cena: 100 zł\n",
      "Ilość na stanie: 10\n",
      "Grupa wiekowa: 6+\n"
     ]
    }
   ],
   "source": [
    "Lego.wyswietl_dane()"
   ]
  },
  {
   "cell_type": "code",
   "execution_count": 34,
   "metadata": {},
   "outputs": [
    {
     "data": {
      "text/plain": [
       "'Stan magazynowy: 15 sztuk'"
      ]
     },
     "execution_count": 34,
     "metadata": {},
     "output_type": "execute_result"
    }
   ],
   "source": [
    "Lego.get_ilosc()"
   ]
  },
  {
   "cell_type": "markdown",
   "metadata": {},
   "source": [
    "###Zadanie 3.\n",
    "\n",
    "Pobierz zbiór danych o zawodnikach NBA: https://www.kaggle.com/justinas/nba-players-data\n",
    "Otwórz go za pomocą Pandas i odpowiedz na pytania:\n",
    "1. Czy jest jakikolwiek zawodnik spoza USA, który przed NBA uczęszczał do college'u Kentucky?\n",
    "2. Ile wynosi średni wzrost zawodnika w calach? Czy od pierwszego sezonu w tym zbiorze do teraz powiększył się czy zmniejszył?\n",
    "3. Kto w badanym okresie rzucił łącznie najwięcej punktów?\n",
    "4. W której rundzie draftu największy udział procentowy mieli zawodnicy ważący więcej niż 100 kg?"
   ]
  },
  {
   "cell_type": "code",
   "execution_count": 35,
   "metadata": {},
   "outputs": [],
   "source": [
    "import pandas as pd\n",
    "\n",
    "dataset = pd.read_csv('all_seasons.csv')"
   ]
  },
  {
   "cell_type": "code",
   "execution_count": 36,
   "metadata": {},
   "outputs": [
    {
     "data": {
      "text/html": [
       "<div>\n",
       "<style scoped>\n",
       "    .dataframe tbody tr th:only-of-type {\n",
       "        vertical-align: middle;\n",
       "    }\n",
       "\n",
       "    .dataframe tbody tr th {\n",
       "        vertical-align: top;\n",
       "    }\n",
       "\n",
       "    .dataframe thead th {\n",
       "        text-align: right;\n",
       "    }\n",
       "</style>\n",
       "<table border=\"1\" class=\"dataframe\">\n",
       "  <thead>\n",
       "    <tr style=\"text-align: right;\">\n",
       "      <th></th>\n",
       "      <th>Unnamed: 0</th>\n",
       "      <th>player_name</th>\n",
       "      <th>team_abbreviation</th>\n",
       "      <th>age</th>\n",
       "      <th>player_height</th>\n",
       "      <th>player_weight</th>\n",
       "      <th>college</th>\n",
       "      <th>country</th>\n",
       "      <th>draft_year</th>\n",
       "      <th>draft_round</th>\n",
       "      <th>...</th>\n",
       "      <th>pts</th>\n",
       "      <th>reb</th>\n",
       "      <th>ast</th>\n",
       "      <th>net_rating</th>\n",
       "      <th>oreb_pct</th>\n",
       "      <th>dreb_pct</th>\n",
       "      <th>usg_pct</th>\n",
       "      <th>ts_pct</th>\n",
       "      <th>ast_pct</th>\n",
       "      <th>season</th>\n",
       "    </tr>\n",
       "  </thead>\n",
       "  <tbody>\n",
       "    <tr>\n",
       "      <th>0</th>\n",
       "      <td>0</td>\n",
       "      <td>Dennis Rodman</td>\n",
       "      <td>CHI</td>\n",
       "      <td>36.0</td>\n",
       "      <td>198.12</td>\n",
       "      <td>99.790240</td>\n",
       "      <td>Southeastern Oklahoma State</td>\n",
       "      <td>USA</td>\n",
       "      <td>1986</td>\n",
       "      <td>2</td>\n",
       "      <td>...</td>\n",
       "      <td>5.7</td>\n",
       "      <td>16.1</td>\n",
       "      <td>3.1</td>\n",
       "      <td>16.1</td>\n",
       "      <td>0.186</td>\n",
       "      <td>0.323</td>\n",
       "      <td>0.100</td>\n",
       "      <td>0.479</td>\n",
       "      <td>0.113</td>\n",
       "      <td>1996-97</td>\n",
       "    </tr>\n",
       "    <tr>\n",
       "      <th>1</th>\n",
       "      <td>1</td>\n",
       "      <td>Dwayne Schintzius</td>\n",
       "      <td>LAC</td>\n",
       "      <td>28.0</td>\n",
       "      <td>215.90</td>\n",
       "      <td>117.933920</td>\n",
       "      <td>Florida</td>\n",
       "      <td>USA</td>\n",
       "      <td>1990</td>\n",
       "      <td>1</td>\n",
       "      <td>...</td>\n",
       "      <td>2.3</td>\n",
       "      <td>1.5</td>\n",
       "      <td>0.3</td>\n",
       "      <td>12.3</td>\n",
       "      <td>0.078</td>\n",
       "      <td>0.151</td>\n",
       "      <td>0.175</td>\n",
       "      <td>0.430</td>\n",
       "      <td>0.048</td>\n",
       "      <td>1996-97</td>\n",
       "    </tr>\n",
       "    <tr>\n",
       "      <th>2</th>\n",
       "      <td>2</td>\n",
       "      <td>Earl Cureton</td>\n",
       "      <td>TOR</td>\n",
       "      <td>39.0</td>\n",
       "      <td>205.74</td>\n",
       "      <td>95.254320</td>\n",
       "      <td>Detroit Mercy</td>\n",
       "      <td>USA</td>\n",
       "      <td>1979</td>\n",
       "      <td>3</td>\n",
       "      <td>...</td>\n",
       "      <td>0.8</td>\n",
       "      <td>1.0</td>\n",
       "      <td>0.4</td>\n",
       "      <td>-2.1</td>\n",
       "      <td>0.105</td>\n",
       "      <td>0.102</td>\n",
       "      <td>0.103</td>\n",
       "      <td>0.376</td>\n",
       "      <td>0.148</td>\n",
       "      <td>1996-97</td>\n",
       "    </tr>\n",
       "    <tr>\n",
       "      <th>3</th>\n",
       "      <td>3</td>\n",
       "      <td>Ed O'Bannon</td>\n",
       "      <td>DAL</td>\n",
       "      <td>24.0</td>\n",
       "      <td>203.20</td>\n",
       "      <td>100.697424</td>\n",
       "      <td>UCLA</td>\n",
       "      <td>USA</td>\n",
       "      <td>1995</td>\n",
       "      <td>1</td>\n",
       "      <td>...</td>\n",
       "      <td>3.7</td>\n",
       "      <td>2.3</td>\n",
       "      <td>0.6</td>\n",
       "      <td>-8.7</td>\n",
       "      <td>0.060</td>\n",
       "      <td>0.149</td>\n",
       "      <td>0.167</td>\n",
       "      <td>0.399</td>\n",
       "      <td>0.077</td>\n",
       "      <td>1996-97</td>\n",
       "    </tr>\n",
       "    <tr>\n",
       "      <th>4</th>\n",
       "      <td>4</td>\n",
       "      <td>Ed Pinckney</td>\n",
       "      <td>MIA</td>\n",
       "      <td>34.0</td>\n",
       "      <td>205.74</td>\n",
       "      <td>108.862080</td>\n",
       "      <td>Villanova</td>\n",
       "      <td>USA</td>\n",
       "      <td>1985</td>\n",
       "      <td>1</td>\n",
       "      <td>...</td>\n",
       "      <td>2.4</td>\n",
       "      <td>2.4</td>\n",
       "      <td>0.2</td>\n",
       "      <td>-11.2</td>\n",
       "      <td>0.109</td>\n",
       "      <td>0.179</td>\n",
       "      <td>0.127</td>\n",
       "      <td>0.611</td>\n",
       "      <td>0.040</td>\n",
       "      <td>1996-97</td>\n",
       "    </tr>\n",
       "    <tr>\n",
       "      <th>...</th>\n",
       "      <td>...</td>\n",
       "      <td>...</td>\n",
       "      <td>...</td>\n",
       "      <td>...</td>\n",
       "      <td>...</td>\n",
       "      <td>...</td>\n",
       "      <td>...</td>\n",
       "      <td>...</td>\n",
       "      <td>...</td>\n",
       "      <td>...</td>\n",
       "      <td>...</td>\n",
       "      <td>...</td>\n",
       "      <td>...</td>\n",
       "      <td>...</td>\n",
       "      <td>...</td>\n",
       "      <td>...</td>\n",
       "      <td>...</td>\n",
       "      <td>...</td>\n",
       "      <td>...</td>\n",
       "      <td>...</td>\n",
       "      <td>...</td>\n",
       "    </tr>\n",
       "    <tr>\n",
       "      <th>12300</th>\n",
       "      <td>12300</td>\n",
       "      <td>Markieff Morris</td>\n",
       "      <td>MIA</td>\n",
       "      <td>32.0</td>\n",
       "      <td>205.74</td>\n",
       "      <td>111.130040</td>\n",
       "      <td>Kansas</td>\n",
       "      <td>USA</td>\n",
       "      <td>2011</td>\n",
       "      <td>1</td>\n",
       "      <td>...</td>\n",
       "      <td>7.6</td>\n",
       "      <td>2.6</td>\n",
       "      <td>1.4</td>\n",
       "      <td>4.5</td>\n",
       "      <td>0.059</td>\n",
       "      <td>0.089</td>\n",
       "      <td>0.197</td>\n",
       "      <td>0.547</td>\n",
       "      <td>0.116</td>\n",
       "      <td>2021-22</td>\n",
       "    </tr>\n",
       "    <tr>\n",
       "      <th>12301</th>\n",
       "      <td>12301</td>\n",
       "      <td>Markelle Fultz</td>\n",
       "      <td>ORL</td>\n",
       "      <td>24.0</td>\n",
       "      <td>193.04</td>\n",
       "      <td>94.800728</td>\n",
       "      <td>Washington</td>\n",
       "      <td>USA</td>\n",
       "      <td>2017</td>\n",
       "      <td>1</td>\n",
       "      <td>...</td>\n",
       "      <td>10.8</td>\n",
       "      <td>2.7</td>\n",
       "      <td>5.5</td>\n",
       "      <td>-5.3</td>\n",
       "      <td>0.010</td>\n",
       "      <td>0.116</td>\n",
       "      <td>0.265</td>\n",
       "      <td>0.517</td>\n",
       "      <td>0.448</td>\n",
       "      <td>2021-22</td>\n",
       "    </tr>\n",
       "    <tr>\n",
       "      <th>12302</th>\n",
       "      <td>12302</td>\n",
       "      <td>Marcus Smart</td>\n",
       "      <td>BOS</td>\n",
       "      <td>28.0</td>\n",
       "      <td>193.04</td>\n",
       "      <td>99.790240</td>\n",
       "      <td>Oklahoma State</td>\n",
       "      <td>USA</td>\n",
       "      <td>2014</td>\n",
       "      <td>1</td>\n",
       "      <td>...</td>\n",
       "      <td>12.1</td>\n",
       "      <td>3.8</td>\n",
       "      <td>5.9</td>\n",
       "      <td>9.3</td>\n",
       "      <td>0.018</td>\n",
       "      <td>0.093</td>\n",
       "      <td>0.179</td>\n",
       "      <td>0.540</td>\n",
       "      <td>0.245</td>\n",
       "      <td>2021-22</td>\n",
       "    </tr>\n",
       "    <tr>\n",
       "      <th>12303</th>\n",
       "      <td>12303</td>\n",
       "      <td>Marcus Garrett</td>\n",
       "      <td>MIA</td>\n",
       "      <td>23.0</td>\n",
       "      <td>195.58</td>\n",
       "      <td>92.986360</td>\n",
       "      <td>Kansas</td>\n",
       "      <td>USA</td>\n",
       "      <td>Undrafted</td>\n",
       "      <td>Undrafted</td>\n",
       "      <td>...</td>\n",
       "      <td>1.1</td>\n",
       "      <td>1.9</td>\n",
       "      <td>0.6</td>\n",
       "      <td>5.8</td>\n",
       "      <td>0.072</td>\n",
       "      <td>0.108</td>\n",
       "      <td>0.086</td>\n",
       "      <td>0.280</td>\n",
       "      <td>0.069</td>\n",
       "      <td>2021-22</td>\n",
       "    </tr>\n",
       "    <tr>\n",
       "      <th>12304</th>\n",
       "      <td>12304</td>\n",
       "      <td>Micah Potter</td>\n",
       "      <td>DET</td>\n",
       "      <td>24.0</td>\n",
       "      <td>208.28</td>\n",
       "      <td>112.490816</td>\n",
       "      <td>Wisconsin</td>\n",
       "      <td>USA</td>\n",
       "      <td>Undrafted</td>\n",
       "      <td>Undrafted</td>\n",
       "      <td>...</td>\n",
       "      <td>4.0</td>\n",
       "      <td>3.0</td>\n",
       "      <td>0.0</td>\n",
       "      <td>-56.4</td>\n",
       "      <td>0.095</td>\n",
       "      <td>0.125</td>\n",
       "      <td>0.148</td>\n",
       "      <td>0.505</td>\n",
       "      <td>0.000</td>\n",
       "      <td>2021-22</td>\n",
       "    </tr>\n",
       "  </tbody>\n",
       "</table>\n",
       "<p>12305 rows × 22 columns</p>\n",
       "</div>"
      ],
      "text/plain": [
       "       Unnamed: 0        player_name team_abbreviation   age  player_height  \\\n",
       "0               0      Dennis Rodman               CHI  36.0         198.12   \n",
       "1               1  Dwayne Schintzius               LAC  28.0         215.90   \n",
       "2               2       Earl Cureton               TOR  39.0         205.74   \n",
       "3               3        Ed O'Bannon               DAL  24.0         203.20   \n",
       "4               4        Ed Pinckney               MIA  34.0         205.74   \n",
       "...           ...                ...               ...   ...            ...   \n",
       "12300       12300    Markieff Morris               MIA  32.0         205.74   \n",
       "12301       12301     Markelle Fultz               ORL  24.0         193.04   \n",
       "12302       12302       Marcus Smart               BOS  28.0         193.04   \n",
       "12303       12303     Marcus Garrett               MIA  23.0         195.58   \n",
       "12304       12304       Micah Potter               DET  24.0         208.28   \n",
       "\n",
       "       player_weight                      college country draft_year  \\\n",
       "0          99.790240  Southeastern Oklahoma State     USA       1986   \n",
       "1         117.933920                      Florida     USA       1990   \n",
       "2          95.254320                Detroit Mercy     USA       1979   \n",
       "3         100.697424                         UCLA     USA       1995   \n",
       "4         108.862080                    Villanova     USA       1985   \n",
       "...              ...                          ...     ...        ...   \n",
       "12300     111.130040                       Kansas     USA       2011   \n",
       "12301      94.800728                   Washington     USA       2017   \n",
       "12302      99.790240               Oklahoma State     USA       2014   \n",
       "12303      92.986360                       Kansas     USA  Undrafted   \n",
       "12304     112.490816                    Wisconsin     USA  Undrafted   \n",
       "\n",
       "      draft_round  ...   pts   reb  ast  net_rating  oreb_pct  dreb_pct  \\\n",
       "0               2  ...   5.7  16.1  3.1        16.1     0.186     0.323   \n",
       "1               1  ...   2.3   1.5  0.3        12.3     0.078     0.151   \n",
       "2               3  ...   0.8   1.0  0.4        -2.1     0.105     0.102   \n",
       "3               1  ...   3.7   2.3  0.6        -8.7     0.060     0.149   \n",
       "4               1  ...   2.4   2.4  0.2       -11.2     0.109     0.179   \n",
       "...           ...  ...   ...   ...  ...         ...       ...       ...   \n",
       "12300           1  ...   7.6   2.6  1.4         4.5     0.059     0.089   \n",
       "12301           1  ...  10.8   2.7  5.5        -5.3     0.010     0.116   \n",
       "12302           1  ...  12.1   3.8  5.9         9.3     0.018     0.093   \n",
       "12303   Undrafted  ...   1.1   1.9  0.6         5.8     0.072     0.108   \n",
       "12304   Undrafted  ...   4.0   3.0  0.0       -56.4     0.095     0.125   \n",
       "\n",
       "       usg_pct  ts_pct  ast_pct   season  \n",
       "0        0.100   0.479    0.113  1996-97  \n",
       "1        0.175   0.430    0.048  1996-97  \n",
       "2        0.103   0.376    0.148  1996-97  \n",
       "3        0.167   0.399    0.077  1996-97  \n",
       "4        0.127   0.611    0.040  1996-97  \n",
       "...        ...     ...      ...      ...  \n",
       "12300    0.197   0.547    0.116  2021-22  \n",
       "12301    0.265   0.517    0.448  2021-22  \n",
       "12302    0.179   0.540    0.245  2021-22  \n",
       "12303    0.086   0.280    0.069  2021-22  \n",
       "12304    0.148   0.505    0.000  2021-22  \n",
       "\n",
       "[12305 rows x 22 columns]"
      ]
     },
     "execution_count": 36,
     "metadata": {},
     "output_type": "execute_result"
    }
   ],
   "source": [
    "dataset"
   ]
  },
  {
   "cell_type": "code",
   "execution_count": 18,
   "metadata": {},
   "outputs": [
    {
     "data": {
      "text/plain": [
       "['Unnamed: 0',\n",
       " 'player_name',\n",
       " 'team_abbreviation',\n",
       " 'age',\n",
       " 'player_height',\n",
       " 'player_weight',\n",
       " 'college',\n",
       " 'country',\n",
       " 'draft_year',\n",
       " 'draft_round',\n",
       " 'draft_number',\n",
       " 'gp',\n",
       " 'pts',\n",
       " 'reb',\n",
       " 'ast',\n",
       " 'net_rating',\n",
       " 'oreb_pct',\n",
       " 'dreb_pct',\n",
       " 'usg_pct',\n",
       " 'ts_pct',\n",
       " 'ast_pct',\n",
       " 'season']"
      ]
     },
     "execution_count": 18,
     "metadata": {},
     "output_type": "execute_result"
    }
   ],
   "source": [
    "list(dataset.columns)"
   ]
  },
  {
   "cell_type": "code",
   "execution_count": null,
   "metadata": {},
   "outputs": [],
   "source": [
    "#Czy jest jakikolwiek zawodnik spoza USA, który przed NBA uczęszczał do college'u Kentucky?"
   ]
  },
  {
   "cell_type": "code",
   "execution_count": 37,
   "metadata": {},
   "outputs": [
    {
     "name": "stdout",
     "output_type": "stream",
     "text": [
      "                   player_name      country   college\n",
      "1910           Jamaal Magloire       Canada  Kentucky\n",
      "2529           Jamaal Magloire       Canada  Kentucky\n",
      "2799           Jamaal Magloire       Canada  Kentucky\n",
      "3416           Jamaal Magloire       Canada  Kentucky\n",
      "3803           Jamaal Magloire       Canada  Kentucky\n",
      "4074           Jamaal Magloire       Canada  Kentucky\n",
      "4438           Jamaal Magloire       Canada  Kentucky\n",
      "4485          Kelenna Azubuike      England  Kentucky\n",
      "4940           Jamaal Magloire       Canada  Kentucky\n",
      "5204          Kelenna Azubuike      England  Kentucky\n",
      "5366           Jamaal Magloire       Canada  Kentucky\n",
      "5573          Kelenna Azubuike      England  Kentucky\n",
      "6087          Kelenna Azubuike      England  Kentucky\n",
      "6162           Jamaal Magloire       Canada  Kentucky\n",
      "6656           Jamaal Magloire       Canada  Kentucky\n",
      "6696           Jamaal Magloire       Canada  Kentucky\n",
      "6826               Enes Kanter       Turkey  Kentucky\n",
      "7089          Kelenna Azubuike      England  Kentucky\n",
      "7398               Enes Kanter       Turkey  Kentucky\n",
      "8023               Enes Kanter       Turkey  Kentucky\n",
      "8222               Enes Kanter       Turkey  Kentucky\n",
      "8838               Enes Kanter       Turkey  Kentucky\n",
      "9187           Skal Labissiere        Haiti  Kentucky\n",
      "9500              Jamal Murray       Canada  Kentucky\n",
      "9516               Enes Kanter       Turkey  Kentucky\n",
      "9711              Jamal Murray       Canada  Kentucky\n",
      "9939           Skal Labissiere        Haiti  Kentucky\n",
      "10144          Skal Labissiere        Haiti  Kentucky\n",
      "10150  Shai Gilgeous-Alexander       Canada  Kentucky\n",
      "10313          Isaac Humphries    Australia  Kentucky\n",
      "10570             Jamal Murray       Canada  Kentucky\n",
      "10677            Mychal Mulder       Canada  Kentucky\n",
      "10767               Trey Lyles       Canada  Kentucky\n",
      "10813           Wenyen Gabriel  South Sudan  Kentucky\n",
      "10874          Skal Labissiere        Haiti  Kentucky\n",
      "10879  Shai Gilgeous-Alexander       Canada  Kentucky\n",
      "11043             Jamal Murray       Canada  Kentucky\n",
      "11210            Mychal Mulder       Canada  Kentucky\n",
      "11353           Wenyen Gabriel  South Sudan  Kentucky\n",
      "11371               Trey Lyles       Canada  Kentucky\n",
      "11414            Nick Richards      Jamaica  Kentucky\n",
      "11443  Shai Gilgeous-Alexander       Canada  Kentucky\n",
      "11615             Jamal Murray       Canada  Kentucky\n",
      "12033  Shai Gilgeous-Alexander       Canada  Kentucky\n",
      "12120           Wenyen Gabriel  South Sudan  Kentucky\n",
      "12133               Trey Lyles       Canada  Kentucky\n",
      "12153             Olivier Sarr       France  Kentucky\n",
      "12231            Mychal Mulder       Canada  Kentucky\n",
      "12257            Nick Richards      Jamaica  Kentucky\n"
     ]
    }
   ],
   "source": [
    "college_kentucky = dataset[(dataset['college'] == 'Kentucky') & (dataset['country'] != 'USA')]\n",
    "print (college_kentucky[['player_name', 'country', 'college']])"
   ]
  },
  {
   "cell_type": "code",
   "execution_count": 13,
   "metadata": {},
   "outputs": [
    {
     "data": {
      "text/plain": [
       "(49, 22)"
      ]
     },
     "execution_count": 13,
     "metadata": {},
     "output_type": "execute_result"
    }
   ],
   "source": [
    "df_kentucky.shape"
   ]
  },
  {
   "cell_type": "code",
   "execution_count": 38,
   "metadata": {},
   "outputs": [],
   "source": [
    "#Ile wynosi średni wzrost zawodnika w calach? "
   ]
  },
  {
   "cell_type": "code",
   "execution_count": 36,
   "metadata": {},
   "outputs": [
    {
     "name": "stdout",
     "output_type": "stream",
     "text": [
      "Średni wzrost zawodnika w calach: 78.98\n"
     ]
    }
   ],
   "source": [
    "dataset['wzrost_cale'] = dataset['player_height'] * 0.3937\n",
    "sredni_wzrost = dataset['wzrost_cale'].mean()\n",
    "print(\"Średni wzrost zawodnika w calach: {:.2f}\".format(sredni_wzrost))"
   ]
  },
  {
   "cell_type": "code",
   "execution_count": 19,
   "metadata": {},
   "outputs": [
    {
     "data": {
      "text/plain": [
       "season\n",
       "1996-97    200.994830\n",
       "1997-98    200.619499\n",
       "1998-99    200.903007\n",
       "1999-00    200.920959\n",
       "2000-01    200.752154\n",
       "2001-02    201.017909\n",
       "2002-03    201.520514\n",
       "2003-04    201.315113\n",
       "2004-05    201.245733\n",
       "2005-06    200.920655\n",
       "2006-07    200.704367\n",
       "2007-08    200.851486\n",
       "2008-09    201.196539\n",
       "2009-10    200.873394\n",
       "2010-11    201.217832\n",
       "2011-12    200.832343\n",
       "2012-13    200.769765\n",
       "2013-14    200.772946\n",
       "2014-15    200.838455\n",
       "2015-16    200.949034\n",
       "2016-17    200.916790\n",
       "2017-18    200.457741\n",
       "2018-19    200.535396\n",
       "2019-20    198.941059\n",
       "2020-21    198.914926\n",
       "2021-22    198.350909\n",
       "Name: player_height, dtype: float64"
      ]
     },
     "execution_count": 19,
     "metadata": {},
     "output_type": "execute_result"
    }
   ],
   "source": [
    "dataset.groupby('season')['player_height'].mean()"
   ]
  },
  {
   "cell_type": "code",
   "execution_count": 23,
   "metadata": {},
   "outputs": [],
   "source": [
    "sredni_wzrost_sezony = dataset.groupby('season')['player_height'].mean()"
   ]
  },
  {
   "cell_type": "code",
   "execution_count": 24,
   "metadata": {
    "scrolled": true
   },
   "outputs": [
    {
     "data": {
      "text/plain": [
       "season\n",
       "1996-97    200.994830\n",
       "1997-98    200.619499\n",
       "1998-99    200.903007\n",
       "1999-00    200.920959\n",
       "2000-01    200.752154\n",
       "2001-02    201.017909\n",
       "2002-03    201.520514\n",
       "2003-04    201.315113\n",
       "2004-05    201.245733\n",
       "2005-06    200.920655\n",
       "2006-07    200.704367\n",
       "2007-08    200.851486\n",
       "2008-09    201.196539\n",
       "2009-10    200.873394\n",
       "2010-11    201.217832\n",
       "2011-12    200.832343\n",
       "2012-13    200.769765\n",
       "2013-14    200.772946\n",
       "2014-15    200.838455\n",
       "2015-16    200.949034\n",
       "2016-17    200.916790\n",
       "2017-18    200.457741\n",
       "2018-19    200.535396\n",
       "2019-20    198.941059\n",
       "2020-21    198.914926\n",
       "2021-22    198.350909\n",
       "Name: player_height, dtype: float64"
      ]
     },
     "execution_count": 24,
     "metadata": {},
     "output_type": "execute_result"
    }
   ],
   "source": [
    "sredni_wzrost_sezony"
   ]
  },
  {
   "cell_type": "code",
   "execution_count": 20,
   "metadata": {},
   "outputs": [],
   "source": [
    "lista_sezony = dataset[\"season\"].unique()"
   ]
  },
  {
   "cell_type": "code",
   "execution_count": 21,
   "metadata": {
    "scrolled": true
   },
   "outputs": [
    {
     "name": "stdout",
     "output_type": "stream",
     "text": [
      "['1996-97' '1997-98' '1998-99' '1999-00' '2000-01' '2001-02' '2002-03'\n",
      " '2003-04' '2004-05' '2005-06' '2006-07' '2007-08' '2008-09' '2009-10'\n",
      " '2010-11' '2011-12' '2012-13' '2013-14' '2014-15' '2015-16' '2016-17'\n",
      " '2017-18' '2018-19' '2019-20' '2020-21' '2021-22']\n"
     ]
    }
   ],
   "source": [
    "print(lista_sezony)"
   ]
  },
  {
   "cell_type": "code",
   "execution_count": null,
   "metadata": {},
   "outputs": [],
   "source": [
    "#Czy od pierwszego sezonu w tym zbiorze do teraz powiększył się czy zmniejszył?"
   ]
  },
  {
   "cell_type": "code",
   "execution_count": 27,
   "metadata": {},
   "outputs": [
    {
     "name": "stdout",
     "output_type": "stream",
     "text": [
      "Średni wzrost od pierwszego sezonu do teraz zmniejszył się.\n"
     ]
    }
   ],
   "source": [
    "sredni_wzrost_1996_97 = dataset[dataset['season'] == '1996-97']['player_height'].mean()\n",
    "sredni_wzrost_2021_22 = dataset[dataset['season'] == '2021-22']['player_height'].mean()\n",
    "\n",
    "if sredni_wzrost_1996_97 < sredni_wzrost_2021_22:\n",
    "    print(\"Średni wzrost od pierwszego sezonu do teraz powiększył się.\")\n",
    "elif sredni_wzrost_1996_97 > sredni_wzrost_2021_22:\n",
    "    print(\"Średni wzrost od pierwszego sezonu do teraz zmniejszył się.\")\n",
    "else:\n",
    "    print(\"Średni wzrost od pierwszego sezonu do teraz nie zmienił się.\")\n"
   ]
  },
  {
   "cell_type": "code",
   "execution_count": null,
   "metadata": {},
   "outputs": [],
   "source": [
    "#Kto w badanym okresie rzucił łącznie najwięcej punktów?"
   ]
  },
  {
   "cell_type": "code",
   "execution_count": 35,
   "metadata": {
    "scrolled": true
   },
   "outputs": [
    {
     "name": "stdout",
     "output_type": "stream",
     "text": [
      "player_name         season \n",
      "A.C. Green          1996-97     7.2\n",
      "                    1997-98     7.3\n",
      "                    1998-99     4.9\n",
      "                    1999-00     5.0\n",
      "                    2000-01     4.5\n",
      "                               ... \n",
      "Zydrunas Ilgauskas  2008-09    12.9\n",
      "                    2009-10     7.4\n",
      "                    2010-11     5.0\n",
      "Zylan Cheatham      2019-20     3.0\n",
      "                    2021-22     0.0\n",
      "Name: pts, Length: 12301, dtype: float64\n"
     ]
    }
   ],
   "source": [
    "pogrupowany_dataset = dataset.groupby(['player_name', 'season'])['pts'].sum()\n",
    "print(pogrupowany_dataset)"
   ]
  },
  {
   "cell_type": "code",
   "execution_count": 33,
   "metadata": {},
   "outputs": [
    {
     "name": "stdout",
     "output_type": "stream",
     "text": [
      "Gracz, który rzucił najwięcej punktów w badanym okresie to: James Harden w sezonie 2018-19\n"
     ]
    }
   ],
   "source": [
    "# gracza, który rzucił najwięcej punktów\n",
    "max_pts_player = pogrupowany_dataset.idxmax()\n",
    "\n",
    "print(\"Gracz, który rzucił najwięcej punktów w badanym okresie to:\", max_pts_player[0], \"w sezonie\", max_pts_player[1])"
   ]
  },
  {
   "cell_type": "code",
   "execution_count": null,
   "metadata": {},
   "outputs": [],
   "source": [
    "#W której rundzie draftu największy udział procentowy mieli zawodnicy ważący więcej niż 100 kg?"
   ]
  },
  {
   "cell_type": "code",
   "execution_count": 34,
   "metadata": {},
   "outputs": [
    {
     "name": "stdout",
     "output_type": "stream",
     "text": [
      "Największy udział procentowy zawodników ważących więcej niż 100 kg był w rundzie draftu nr: 4\n"
     ]
    }
   ],
   "source": [
    "\n",
    "# tworzymy kolumnę z wartością True jeśli zawodnik waży więcej niż 100 kg, a False w przeciwnym wypadku\n",
    "dataset['powyżej_100kg'] = dataset['player_weight'] > 100\n",
    "\n",
    "# grupujemy po rundzie draftu i obliczamy procent zawodników ważących więcej niż 100 kg w każdej rundzie\n",
    "draft_round_pct = dataset.groupby('draft_round')['powyżej_100kg'].mean() * 100\n",
    "\n",
    "# identyfikujemy rundę draftu z największym udziałem procentowym zawodników ważących więcej niż 100 kg\n",
    "max_pct_round = draft_round_pct.idxmax()\n",
    "\n",
    "print(\"Największy udział procentowy zawodników ważących więcej niż 100 kg był w rundzie draftu nr:\", max_pct_round)\n"
   ]
  }
 ],
 "metadata": {
  "kernelspec": {
   "display_name": "Python 3 (ipykernel)",
   "language": "python",
   "name": "python3"
  },
  "language_info": {
   "codemirror_mode": {
    "name": "ipython",
    "version": 3
   },
   "file_extension": ".py",
   "mimetype": "text/x-python",
   "name": "python",
   "nbconvert_exporter": "python",
   "pygments_lexer": "ipython3",
   "version": "3.9.13"
  }
 },
 "nbformat": 4,
 "nbformat_minor": 2
}
